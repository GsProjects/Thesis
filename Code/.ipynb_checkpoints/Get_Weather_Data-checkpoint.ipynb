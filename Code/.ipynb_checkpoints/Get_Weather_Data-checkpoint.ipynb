{
 "cells": [
  {
   "cell_type": "code",
   "execution_count": 1,
   "metadata": {},
   "outputs": [],
   "source": [
    "import pandas as pd\n",
    "import numpy as np\n",
    "import datetime as dt\n",
    "from urllib.request import urlopen\n",
    "import requests\n",
    "from bs4 import BeautifulSoup\n",
    "from zipfile import ZipFile\n",
    "import io\n",
    "import os.path\n",
    "import mysql.connector"
   ]
  },
  {
   "cell_type": "code",
   "execution_count": 2,
   "metadata": {},
   "outputs": [],
   "source": [
    "def create_connection():\n",
    "    cnx2 = mysql.connector.connect(host='localhost',\n",
    "                                   user='root', password='MyNewPass',\n",
    "                                   database='Weather_Data')\n",
    "    return cnx2"
   ]
  },
  {
   "cell_type": "code",
   "execution_count": 3,
   "metadata": {},
   "outputs": [],
   "source": [
    "def insert_data(data):\n",
    "    conn = create_connection()\n",
    "    cursor = conn.cursor()\n",
    "    \n",
    "    for row in data.iterrows():\n",
    "        row = row[1]\n",
    "        row[0] = dt.datetime.strptime(row[0], '%d-%b-%Y %H:%M')\n",
    "        query = \"Insert into weather (Observation_date, rain, temp, wet_bulb_temp,dew_point_temp, vapour_pressure, relative_humidity, mean_sea_level_pressure, mean_wind_speed, predominant_wind_direction, height, latitude, longitude,station, county) values(%s,%s,%s,%s,%s,%s,%s,%s,%s,%s,%s,%s,%s,%s,%s);\"\n",
    "        cursor.execute(query, [items for items in row])\n",
    "        conn.commit()\n",
    "    \n",
    "    print('Finished Insert')\n",
    "        \n",
    "    cursor.close()\n",
    "    conn.close()\n",
    "        \n",
    "    "
   ]
  },
  {
   "cell_type": "code",
   "execution_count": 4,
   "metadata": {},
   "outputs": [],
   "source": [
    "def get_html(url):\n",
    "    html_content = urlopen(url)\n",
    "    content = BeautifulSoup(html_content, \"lxml\")\n",
    "    html_content.close()\n",
    "    return content"
   ]
  },
  {
   "cell_type": "code",
   "execution_count": 5,
   "metadata": {},
   "outputs": [],
   "source": [
    "def data_type(raw_html):\n",
    "    #look for all forms with name attribute = bar\n",
    "    forms = raw_html.find_all('form',{'name':'bar'})\n",
    "    #get all the inupt tags in the form\n",
    "    inputs = forms[0].find_all('input',{'name':'stntype'})\n",
    "    #manually set the text as its not wrapped in any tags in the html\n",
    "    keys = ['Hourly', 'Daily', 'Monthly']\n",
    "    radio_button_params = {}\n",
    "    \n",
    "    for index, input_tag in enumerate(inputs):\n",
    "        radio_button_params[keys[index]] = input_tag.attrs['value']\n",
    "    \n",
    "    return radio_button_params"
   ]
  },
  {
   "cell_type": "code",
   "execution_count": 6,
   "metadata": {},
   "outputs": [],
   "source": [
    "def get_counties(raw_html):\n",
    "    forms = raw_html.find_all('form',{'name':'bar'})\n",
    "    #get all the option tags in the form\n",
    "    selects = forms[0].find_all('option')\n",
    "    counties ={}\n",
    "    for item in selects:\n",
    "        if item.attrs['value'] != '0':\n",
    "            counties[item.text] = item.attrs['value']\n",
    "    \n",
    "    return counties"
   ]
  },
  {
   "cell_type": "code",
   "execution_count": 7,
   "metadata": {},
   "outputs": [],
   "source": [
    "def get_stations(raw_html):\n",
    "    forms = raw_html.find_all('form',{'name':'bar'})\n",
    "    #get all the select tags in the form\n",
    "    selects = forms[0].find_all('select',{'name':'stn'})\n",
    "    options = selects[0].find_all('option')\n",
    "    stations = {}\n",
    "    \n",
    "    for opt in options:\n",
    "        if opt.text != 'Name':\n",
    "            stations[opt.text] = opt.attrs['value']\n",
    "            \n",
    "    return stations\n",
    "    "
   ]
  },
  {
   "cell_type": "code",
   "execution_count": 8,
   "metadata": {},
   "outputs": [],
   "source": [
    "def remove_null(weather_data):   \n",
    "    weather_data = weather_data.dropna(thresh=12)\n",
    "    weather_data.fillna(0, inplace=True)\n",
    "    \n",
    "    return weather_data"
   ]
  },
  {
   "cell_type": "code",
   "execution_count": 9,
   "metadata": {},
   "outputs": [],
   "source": [
    "def read_files(data, file_name, key, station_k):\n",
    "    with ZipFile(io.BytesIO(data.content)) as z:\n",
    "        for file in z.infolist():\n",
    "            if file.filename == file_name:\n",
    "                columns = ['date', 'rain', 'temp', 'wetb', 'dewpt','vappr', 'rhum', 'msl', 'wdsp', 'wddir']\n",
    "\n",
    "                with z.open(file) as thefile:\n",
    "                    extra = pd.read_csv(thefile, nrows=2, header=None)\n",
    "                    height = int(extra[0][1].split()[2])\n",
    "\n",
    "                    with z.open(file) as thefile:\n",
    "                        extra = pd.read_csv(thefile,skiprows=2, nrows=1, header=None)\n",
    "                        latitude = float(extra[0][0].split(':')[1].strip())\n",
    "                        longitude = float(extra[1][0].split(':')[1].strip())\n",
    "                        del(extra)\n",
    "\n",
    "                with z.open(file) as thefile:\n",
    "                    #header rows start at different points.\n",
    "                    try:\n",
    "                        weather_data = pd.read_csv(thefile,skiprows=16,header=0,usecols=columns)\n",
    "                    except:\n",
    "                        with z.open(file) as thefile:\n",
    "                            weather_data = pd.read_csv(thefile,skiprows=23,header=0,usecols=columns)\n",
    "\n",
    "\n",
    "                    weather_data['height'] = height\n",
    "                    weather_data['latitude'] = latitude\n",
    "                    weather_data['longitude'] = longitude\n",
    "                    weather_data['station'] = station_k\n",
    "                    weather_data['county'] = key\n",
    "\n",
    "                    #need to convert empty strings to 0\n",
    "                    weather_data.replace(' ', np.nan, inplace=True)\n",
    "                    weather_data = remove_null(weather_data)\n",
    "\n",
    "                    for cols in weather_data.columns:\n",
    "                        if cols not in ['date','height','station','county']:\n",
    "                            weather_data[cols] = weather_data[cols].astype(np.float64)\n",
    "\n",
    "                    print('Starting Insert')\n",
    "\n",
    "                    weather_data.reset_index(drop=True, inplace=True)\n",
    "                    insert_data(weather_data)\n",
    "    "
   ]
  },
  {
   "cell_type": "code",
   "execution_count": 10,
   "metadata": {},
   "outputs": [],
   "source": [
    "def get_params(url):\n",
    "    base_download_url = 'https://cli.fusio.net/cli/climate_data/webdata/hly'\n",
    "\n",
    "    raw_html = get_html(url)\n",
    "    radio_buttons = data_type(raw_html)\n",
    "    \n",
    "    #make post request with appropriate radio buttons and get updated form html\n",
    "    \n",
    "    new_html = requests.post(url, data={'stntype':radio_buttons['Hourly']})\n",
    "    new_html = BeautifulSoup(new_html.text, \"lxml\")\n",
    "    \n",
    "    counties = get_counties(new_html)\n",
    "    \n",
    "    for key, value in counties.items():        \n",
    "        new_html = requests.post(url, data={'stntype':radio_buttons['Hourly'], 'countyno':counties[key]})\n",
    "        new_html = BeautifulSoup(new_html.text, \"lxml\")\n",
    "        \n",
    "        stations = get_stations(new_html)\n",
    "        for station_k, station_v in stations.items():\n",
    "            print('Preparing insert for county: ', key ,' station: ', station_k)\n",
    "            \n",
    "            if str(stations[station_k]) not in ['175','1275']:\n",
    "                #175 represents pheonix park which has no wind speed/direction data\n",
    "                \n",
    "                download_url = base_download_url + str(stations[station_k]) +'.zip'\n",
    "            \n",
    "                #Had to change jupyter notebooks data io rate limit from 1mb/sec to 20mb/sec\n",
    "                #Also changed the time limit from 3 secs to 30 seconds in notebookapp.py\n",
    "\n",
    "                data = requests.get(download_url)\n",
    "                file_name = 'hly' + str(stations[station_k]) + '.csv'\n",
    "\n",
    "                read_files(data, file_name, key, station_k)\n"
   ]
  },
  {
   "cell_type": "code",
   "execution_count": 11,
   "metadata": {},
   "outputs": [],
   "source": [
    "def get_all_data():\n",
    "    # To download full data series, need to send post request that says if its hourly, daily or monthly data\n",
    "    base_url = 'https://cli.fusio.net/cli/climate_data/showdata.php'\n",
    "    data = get_params(base_url)\n",
    "    "
   ]
  },
  {
   "cell_type": "code",
   "execution_count": 12,
   "metadata": {},
   "outputs": [
    {
     "name": "stdout",
     "output_type": "stream",
     "text": [
      "Preparing insert for county:  Carlow  station:  Oak_Park\n",
      "                date rain temp wetb dewpt vappr rhum  msl wdsp wddir  height  \\\n",
      "0  01-aug-2003 01:00  NaN  NaN  NaN   NaN   NaN  NaN  NaN  NaN   NaN      62   \n",
      "1  01-aug-2003 02:00  NaN  NaN  NaN   NaN   NaN  NaN  NaN  NaN   NaN      62   \n",
      "2  01-aug-2003 03:00  NaN  NaN  NaN   NaN   NaN  NaN  NaN  NaN   NaN      62   \n",
      "3  01-aug-2003 04:00  NaN  NaN  NaN   NaN   NaN  NaN  NaN  NaN   NaN      62   \n",
      "4  01-aug-2003 05:00  NaN  NaN  NaN   NaN   NaN  NaN  NaN  NaN   NaN      62   \n",
      "\n",
      "   latitude  longitude   station  county  \n",
      "0    52.857     -6.909  Oak_Park  Carlow  \n",
      "1    52.857     -6.909  Oak_Park  Carlow  \n",
      "2    52.857     -6.909  Oak_Park  Carlow  \n",
      "3    52.857     -6.909  Oak_Park  Carlow  \n",
      "4    52.857     -6.909  Oak_Park  Carlow  \n",
      "                  date rain  temp  wetb dewpt vappr rhum     msl wdsp wddir  \\\n",
      "295  13-aug-2003 08:00  NaN  16.2  14.3  12.7  14.7   80  1023.6  NaN   NaN   \n",
      "296  13-aug-2003 09:00  0.0  17.3  14.5  12.2  14.2   72  1023.6    6   310   \n",
      "297  13-aug-2003 10:00  0.0  18.5  14.9  12.0  14.0   65  1023.7    6   340   \n",
      "298  13-aug-2003 11:00  0.0  19.3  14.6  10.6  12.7   56  1023.7    5   290   \n",
      "299  13-aug-2003 12:00  0.0  20.4  15.0  10.6  12.8   53  1023.3    5   290   \n",
      "\n",
      "     height  latitude  longitude   station  county  \n",
      "295      62    52.857     -6.909  Oak_Park  Carlow  \n",
      "296      62    52.857     -6.909  Oak_Park  Carlow  \n",
      "297      62    52.857     -6.909  Oak_Park  Carlow  \n",
      "298      62    52.857     -6.909  Oak_Park  Carlow  \n",
      "299      62    52.857     -6.909  Oak_Park  Carlow  \n"
     ]
    },
    {
     "name": "stderr",
     "output_type": "stream",
     "text": [
      "/Users/gearoidlacey/anaconda3/lib/python3.6/site-packages/pandas/core/frame.py:3035: SettingWithCopyWarning: \n",
      "A value is trying to be set on a copy of a slice from a DataFrame\n",
      "\n",
      "See the caveats in the documentation: http://pandas.pydata.org/pandas-docs/stable/indexing.html#indexing-view-versus-copy\n",
      "  downcast=downcast, **kwargs)\n"
     ]
    },
    {
     "name": "stdout",
     "output_type": "stream",
     "text": [
      "Starting Insert\n",
      "Preparing insert for county:  Cavan  station:  Ballyhaise\n",
      "                date rain temp wetb dewpt vappr rhum  msl wdsp wddir  height  \\\n",
      "0  01-jan-2004 01:00  NaN  NaN  NaN   NaN   NaN  NaN  NaN  NaN   NaN      78   \n",
      "1  01-jan-2004 02:00  NaN  NaN  NaN   NaN   NaN  NaN  NaN  NaN   NaN      78   \n",
      "2  01-jan-2004 03:00  NaN  NaN  NaN   NaN   NaN  NaN  NaN  NaN   NaN      78   \n",
      "3  01-jan-2004 04:00  NaN  NaN  NaN   NaN   NaN  NaN  NaN  NaN   NaN      78   \n",
      "4  01-jan-2004 05:00  NaN  NaN  NaN   NaN   NaN  NaN  NaN  NaN   NaN      78   \n",
      "\n",
      "   latitude  longitude     station county  \n",
      "0    54.051     -7.306  Ballyhaise  Cavan  \n",
      "1    54.051     -7.306  Ballyhaise  Cavan  \n",
      "2    54.051     -7.306  Ballyhaise  Cavan  \n",
      "3    54.051     -7.306  Ballyhaise  Cavan  \n",
      "4    54.051     -7.306  Ballyhaise  Cavan  \n",
      "                 date rain temp wetb dewpt vappr rhum     msl wdsp wddir  \\\n",
      "71  01-jan-2006 00:00  NaN  6.8  6.3   5.7   9.1   92   995.6  NaN   NaN   \n",
      "72  01-jan-2006 01:00  0.0  6.8  6.1   5.2   8.8   89   996.7    8   300   \n",
      "73  01-jan-2006 02:00  0.0  6.9  5.9   4.6   8.5   85   998.0   11   300   \n",
      "74  01-jan-2006 03:00  0.0  6.6  5.4   3.8   8.0   82   999.6   13   310   \n",
      "75  01-jan-2006 04:00  0.0  6.3  5.2   3.6   7.9   82  1000.6   10   300   \n",
      "\n",
      "    height  latitude  longitude     station county  \n",
      "71      78    54.051     -7.306  Ballyhaise  Cavan  \n",
      "72      78    54.051     -7.306  Ballyhaise  Cavan  \n",
      "73      78    54.051     -7.306  Ballyhaise  Cavan  \n",
      "74      78    54.051     -7.306  Ballyhaise  Cavan  \n",
      "75      78    54.051     -7.306  Ballyhaise  Cavan  \n",
      "Starting Insert\n",
      "Preparing insert for county:  Clare  station:  Shannon_Airport\n"
     ]
    },
    {
     "name": "stderr",
     "output_type": "stream",
     "text": [
      "/Users/gearoidlacey/anaconda3/lib/python3.6/site-packages/ipykernel_launcher.py:1: DtypeWarning: Columns (6,12,14) have mixed types. Specify dtype option on import or set low_memory=False.\n",
      "  \"\"\"Entry point for launching an IPython kernel.\n"
     ]
    },
    {
     "name": "stdout",
     "output_type": "stream",
     "text": [
      "                date  rain  temp wetb  dewpt  vappr  rhum    msl wdsp wddir  \\\n",
      "0  01-jan-1988 00:00   0.1   8.5  7.5    6.4    9.6    86  999.0   11   220   \n",
      "1  01-jan-1988 01:00   1.1   8.3  7.7    7.0   10.0    92  998.5   11   230   \n",
      "2  01-jan-1988 02:00   0.3   8.5  7.7    6.8    9.9    89  998.0    8   200   \n",
      "3  01-jan-1988 03:00   0.3   8.5    8    7.5   10.3    93  996.4    7   190   \n",
      "4  01-jan-1988 04:00   0.1   9.1  8.4    7.7   10.5    91  995.3    8   180   \n",
      "\n",
      "   height  latitude  longitude          station county  \n",
      "0      15    52.687     -8.917  Shannon_Airport  Clare  \n",
      "1      15    52.687     -8.917  Shannon_Airport  Clare  \n",
      "2      15    52.687     -8.917  Shannon_Airport  Clare  \n",
      "3      15    52.687     -8.917  Shannon_Airport  Clare  \n",
      "4      15    52.687     -8.917  Shannon_Airport  Clare  \n",
      "                date  rain  temp wetb  dewpt  vappr  rhum    msl wdsp wddir  \\\n",
      "0  01-jan-1988 00:00   0.1   8.5  7.5    6.4    9.6    86  999.0   11   220   \n",
      "1  01-jan-1988 01:00   1.1   8.3  7.7    7.0   10.0    92  998.5   11   230   \n",
      "2  01-jan-1988 02:00   0.3   8.5  7.7    6.8    9.9    89  998.0    8   200   \n",
      "3  01-jan-1988 03:00   0.3   8.5    8    7.5   10.3    93  996.4    7   190   \n",
      "4  01-jan-1988 04:00   0.1   9.1  8.4    7.7   10.5    91  995.3    8   180   \n",
      "\n",
      "   height  latitude  longitude          station county  \n",
      "0      15    52.687     -8.917  Shannon_Airport  Clare  \n",
      "1      15    52.687     -8.917  Shannon_Airport  Clare  \n",
      "2      15    52.687     -8.917  Shannon_Airport  Clare  \n",
      "3      15    52.687     -8.917  Shannon_Airport  Clare  \n",
      "4      15    52.687     -8.917  Shannon_Airport  Clare  \n",
      "Starting Insert\n",
      "Preparing insert for county:  Cork  station:  Cork_Airport\n"
     ]
    },
    {
     "name": "stderr",
     "output_type": "stream",
     "text": [
      "/Users/gearoidlacey/anaconda3/lib/python3.6/site-packages/ipykernel_launcher.py:1: DtypeWarning: Columns (6,8,9) have mixed types. Specify dtype option on import or set low_memory=False.\n",
      "  \"\"\"Entry point for launching an IPython kernel.\n"
     ]
    },
    {
     "name": "stdout",
     "output_type": "stream",
     "text": [
      "                date  rain  temp wetb  dewpt vappr rhum     msl  wdsp  wddir  \\\n",
      "0  01-jan-1988 00:00   0.0   8.0  7.2    6.2   9.5   89  1001.8    15    220   \n",
      "1  01-jan-1988 01:00   0.0   8.3  7.5    6.5   9.7   89  1000.8    16    230   \n",
      "2  01-jan-1988 02:00   1.1   8.2  7.8    7.3  10.3   94  1000.0    18    230   \n",
      "3  01-jan-1988 03:00   0.4   8.4  8.2    8.0  10.7   97   998.8    19    220   \n",
      "4  01-jan-1988 04:00   0.3   8.8  8.6    8.4    11   97   997.4    20    210   \n",
      "\n",
      "   height  latitude  longitude       station county  \n",
      "0     155    51.842     -8.485  Cork_Airport   Cork  \n",
      "1     155    51.842     -8.485  Cork_Airport   Cork  \n",
      "2     155    51.842     -8.485  Cork_Airport   Cork  \n",
      "3     155    51.842     -8.485  Cork_Airport   Cork  \n",
      "4     155    51.842     -8.485  Cork_Airport   Cork  \n",
      "                date  rain  temp wetb  dewpt vappr rhum     msl  wdsp  wddir  \\\n",
      "0  01-jan-1988 00:00   0.0   8.0  7.2    6.2   9.5   89  1001.8    15    220   \n",
      "1  01-jan-1988 01:00   0.0   8.3  7.5    6.5   9.7   89  1000.8    16    230   \n",
      "2  01-jan-1988 02:00   1.1   8.2  7.8    7.3  10.3   94  1000.0    18    230   \n",
      "3  01-jan-1988 03:00   0.4   8.4  8.2    8.0  10.7   97   998.8    19    220   \n",
      "4  01-jan-1988 04:00   0.3   8.8  8.6    8.4    11   97   997.4    20    210   \n",
      "\n",
      "   height  latitude  longitude       station county  \n",
      "0     155    51.842     -8.485  Cork_Airport   Cork  \n",
      "1     155    51.842     -8.485  Cork_Airport   Cork  \n",
      "2     155    51.842     -8.485  Cork_Airport   Cork  \n",
      "3     155    51.842     -8.485  Cork_Airport   Cork  \n",
      "4     155    51.842     -8.485  Cork_Airport   Cork  \n",
      "Starting Insert\n",
      "Preparing insert for county:  Cork  station:  Moore_Park\n",
      "                date rain temp wetb dewpt vappr rhum  msl wdsp wddir  height  \\\n",
      "0  01-aug-2003 01:00  NaN  NaN  NaN   NaN   NaN  NaN  NaN  NaN   NaN      46   \n",
      "1  01-aug-2003 02:00  NaN  NaN  NaN   NaN   NaN  NaN  NaN  NaN   NaN      46   \n",
      "2  01-aug-2003 03:00  NaN  NaN  NaN   NaN   NaN  NaN  NaN  NaN   NaN      46   \n",
      "3  01-aug-2003 04:00  NaN  NaN  NaN   NaN   NaN  NaN  NaN  NaN   NaN      46   \n",
      "4  01-aug-2003 05:00  NaN  NaN  NaN   NaN   NaN  NaN  NaN  NaN   NaN      46   \n",
      "\n",
      "   latitude  longitude     station county  \n",
      "0    52.158     -8.258  Moore_Park   Cork  \n",
      "1    52.158     -8.258  Moore_Park   Cork  \n",
      "2    52.158     -8.258  Moore_Park   Cork  \n",
      "3    52.158     -8.258  Moore_Park   Cork  \n",
      "4    52.158     -8.258  Moore_Park   Cork  \n",
      "                  date rain  temp  wetb dewpt vappr rhum     msl wdsp wddir  \\\n",
      "235  10-aug-2003 20:00  NaN  16.7  13.8  11.3  13.4   70  1021.7  NaN   320   \n",
      "236  10-aug-2003 21:00  0.0  15.1  13.0  11.2  13.3   77  1022.0    4   290   \n",
      "237  10-aug-2003 22:00  0.0  13.9  12.4  11.1  13.2   83  1022.4    5   270   \n",
      "238  10-aug-2003 23:00  0.0  13.0  12.0  11.0  13.1   87  1022.7    5   260   \n",
      "239  11-aug-2003 00:00  0.0  11.9  11.2  10.6  12.8   91  1022.6    3   270   \n",
      "\n",
      "     height  latitude  longitude     station county  \n",
      "235      46    52.158     -8.258  Moore_Park   Cork  \n",
      "236      46    52.158     -8.258  Moore_Park   Cork  \n",
      "237      46    52.158     -8.258  Moore_Park   Cork  \n",
      "238      46    52.158     -8.258  Moore_Park   Cork  \n",
      "239      46    52.158     -8.258  Moore_Park   Cork  \n",
      "Starting Insert\n",
      "Preparing insert for county:  Cork  station:  Roches_Point\n"
     ]
    },
    {
     "ename": "KeyboardInterrupt",
     "evalue": "",
     "output_type": "error",
     "traceback": [
      "\u001b[0;31m---------------------------------------------------------------------------\u001b[0m",
      "\u001b[0;31mKeyboardInterrupt\u001b[0m                         Traceback (most recent call last)",
      "\u001b[0;32m<timed eval>\u001b[0m in \u001b[0;36m<module>\u001b[0;34m()\u001b[0m\n",
      "\u001b[0;32m<ipython-input-11-ec11c2f18d34>\u001b[0m in \u001b[0;36mget_all_data\u001b[0;34m()\u001b[0m\n\u001b[1;32m      2\u001b[0m     \u001b[0;31m# To download full data series, need to send post request that says if its hourly, daily or monthly data\u001b[0m\u001b[0;34m\u001b[0m\u001b[0;34m\u001b[0m\u001b[0m\n\u001b[1;32m      3\u001b[0m     \u001b[0mbase_url\u001b[0m \u001b[0;34m=\u001b[0m \u001b[0;34m'https://cli.fusio.net/cli/climate_data/showdata.php'\u001b[0m\u001b[0;34m\u001b[0m\u001b[0m\n\u001b[0;32m----> 4\u001b[0;31m     \u001b[0mdata\u001b[0m \u001b[0;34m=\u001b[0m \u001b[0mget_params\u001b[0m\u001b[0;34m(\u001b[0m\u001b[0mbase_url\u001b[0m\u001b[0;34m)\u001b[0m\u001b[0;34m\u001b[0m\u001b[0m\n\u001b[0m\u001b[1;32m      5\u001b[0m \u001b[0;34m\u001b[0m\u001b[0m\n",
      "\u001b[0;32m<ipython-input-10-50fe34fab4d9>\u001b[0m in \u001b[0;36mget_params\u001b[0;34m(url)\u001b[0m\n\u001b[1;32m     28\u001b[0m                 \u001b[0;31m#Also changed the time limit from 3 secs to 30 seconds in notebookapp.py\u001b[0m\u001b[0;34m\u001b[0m\u001b[0;34m\u001b[0m\u001b[0m\n\u001b[1;32m     29\u001b[0m \u001b[0;34m\u001b[0m\u001b[0m\n\u001b[0;32m---> 30\u001b[0;31m                 \u001b[0mdata\u001b[0m \u001b[0;34m=\u001b[0m \u001b[0mrequests\u001b[0m\u001b[0;34m.\u001b[0m\u001b[0mget\u001b[0m\u001b[0;34m(\u001b[0m\u001b[0mdownload_url\u001b[0m\u001b[0;34m)\u001b[0m\u001b[0;34m\u001b[0m\u001b[0m\n\u001b[0m\u001b[1;32m     31\u001b[0m                 \u001b[0mfile_name\u001b[0m \u001b[0;34m=\u001b[0m \u001b[0;34m'hly'\u001b[0m \u001b[0;34m+\u001b[0m \u001b[0mstr\u001b[0m\u001b[0;34m(\u001b[0m\u001b[0mstations\u001b[0m\u001b[0;34m[\u001b[0m\u001b[0mstation_k\u001b[0m\u001b[0;34m]\u001b[0m\u001b[0;34m)\u001b[0m \u001b[0;34m+\u001b[0m \u001b[0;34m'.csv'\u001b[0m\u001b[0;34m\u001b[0m\u001b[0m\n\u001b[1;32m     32\u001b[0m \u001b[0;34m\u001b[0m\u001b[0m\n",
      "\u001b[0;32m~/anaconda3/lib/python3.6/site-packages/requests/api.py\u001b[0m in \u001b[0;36mget\u001b[0;34m(url, params, **kwargs)\u001b[0m\n\u001b[1;32m     70\u001b[0m \u001b[0;34m\u001b[0m\u001b[0m\n\u001b[1;32m     71\u001b[0m     \u001b[0mkwargs\u001b[0m\u001b[0;34m.\u001b[0m\u001b[0msetdefault\u001b[0m\u001b[0;34m(\u001b[0m\u001b[0;34m'allow_redirects'\u001b[0m\u001b[0;34m,\u001b[0m \u001b[0;32mTrue\u001b[0m\u001b[0;34m)\u001b[0m\u001b[0;34m\u001b[0m\u001b[0m\n\u001b[0;32m---> 72\u001b[0;31m     \u001b[0;32mreturn\u001b[0m \u001b[0mrequest\u001b[0m\u001b[0;34m(\u001b[0m\u001b[0;34m'get'\u001b[0m\u001b[0;34m,\u001b[0m \u001b[0murl\u001b[0m\u001b[0;34m,\u001b[0m \u001b[0mparams\u001b[0m\u001b[0;34m=\u001b[0m\u001b[0mparams\u001b[0m\u001b[0;34m,\u001b[0m \u001b[0;34m**\u001b[0m\u001b[0mkwargs\u001b[0m\u001b[0;34m)\u001b[0m\u001b[0;34m\u001b[0m\u001b[0m\n\u001b[0m\u001b[1;32m     73\u001b[0m \u001b[0;34m\u001b[0m\u001b[0m\n\u001b[1;32m     74\u001b[0m \u001b[0;34m\u001b[0m\u001b[0m\n",
      "\u001b[0;32m~/anaconda3/lib/python3.6/site-packages/requests/api.py\u001b[0m in \u001b[0;36mrequest\u001b[0;34m(method, url, **kwargs)\u001b[0m\n\u001b[1;32m     56\u001b[0m     \u001b[0;31m# cases, and look like a memory leak in others.\u001b[0m\u001b[0;34m\u001b[0m\u001b[0;34m\u001b[0m\u001b[0m\n\u001b[1;32m     57\u001b[0m     \u001b[0;32mwith\u001b[0m \u001b[0msessions\u001b[0m\u001b[0;34m.\u001b[0m\u001b[0mSession\u001b[0m\u001b[0;34m(\u001b[0m\u001b[0;34m)\u001b[0m \u001b[0;32mas\u001b[0m \u001b[0msession\u001b[0m\u001b[0;34m:\u001b[0m\u001b[0;34m\u001b[0m\u001b[0m\n\u001b[0;32m---> 58\u001b[0;31m         \u001b[0;32mreturn\u001b[0m \u001b[0msession\u001b[0m\u001b[0;34m.\u001b[0m\u001b[0mrequest\u001b[0m\u001b[0;34m(\u001b[0m\u001b[0mmethod\u001b[0m\u001b[0;34m=\u001b[0m\u001b[0mmethod\u001b[0m\u001b[0;34m,\u001b[0m \u001b[0murl\u001b[0m\u001b[0;34m=\u001b[0m\u001b[0murl\u001b[0m\u001b[0;34m,\u001b[0m \u001b[0;34m**\u001b[0m\u001b[0mkwargs\u001b[0m\u001b[0;34m)\u001b[0m\u001b[0;34m\u001b[0m\u001b[0m\n\u001b[0m\u001b[1;32m     59\u001b[0m \u001b[0;34m\u001b[0m\u001b[0m\n\u001b[1;32m     60\u001b[0m \u001b[0;34m\u001b[0m\u001b[0m\n",
      "\u001b[0;32m~/anaconda3/lib/python3.6/site-packages/requests/sessions.py\u001b[0m in \u001b[0;36mrequest\u001b[0;34m(self, method, url, params, data, headers, cookies, files, auth, timeout, allow_redirects, proxies, hooks, stream, verify, cert, json)\u001b[0m\n\u001b[1;32m    506\u001b[0m         }\n\u001b[1;32m    507\u001b[0m         \u001b[0msend_kwargs\u001b[0m\u001b[0;34m.\u001b[0m\u001b[0mupdate\u001b[0m\u001b[0;34m(\u001b[0m\u001b[0msettings\u001b[0m\u001b[0;34m)\u001b[0m\u001b[0;34m\u001b[0m\u001b[0m\n\u001b[0;32m--> 508\u001b[0;31m         \u001b[0mresp\u001b[0m \u001b[0;34m=\u001b[0m \u001b[0mself\u001b[0m\u001b[0;34m.\u001b[0m\u001b[0msend\u001b[0m\u001b[0;34m(\u001b[0m\u001b[0mprep\u001b[0m\u001b[0;34m,\u001b[0m \u001b[0;34m**\u001b[0m\u001b[0msend_kwargs\u001b[0m\u001b[0;34m)\u001b[0m\u001b[0;34m\u001b[0m\u001b[0m\n\u001b[0m\u001b[1;32m    509\u001b[0m \u001b[0;34m\u001b[0m\u001b[0m\n\u001b[1;32m    510\u001b[0m         \u001b[0;32mreturn\u001b[0m \u001b[0mresp\u001b[0m\u001b[0;34m\u001b[0m\u001b[0m\n",
      "\u001b[0;32m~/anaconda3/lib/python3.6/site-packages/requests/sessions.py\u001b[0m in \u001b[0;36msend\u001b[0;34m(self, request, **kwargs)\u001b[0m\n\u001b[1;32m    656\u001b[0m \u001b[0;34m\u001b[0m\u001b[0m\n\u001b[1;32m    657\u001b[0m         \u001b[0;32mif\u001b[0m \u001b[0;32mnot\u001b[0m \u001b[0mstream\u001b[0m\u001b[0;34m:\u001b[0m\u001b[0;34m\u001b[0m\u001b[0m\n\u001b[0;32m--> 658\u001b[0;31m             \u001b[0mr\u001b[0m\u001b[0;34m.\u001b[0m\u001b[0mcontent\u001b[0m\u001b[0;34m\u001b[0m\u001b[0m\n\u001b[0m\u001b[1;32m    659\u001b[0m \u001b[0;34m\u001b[0m\u001b[0m\n\u001b[1;32m    660\u001b[0m         \u001b[0;32mreturn\u001b[0m \u001b[0mr\u001b[0m\u001b[0;34m\u001b[0m\u001b[0m\n",
      "\u001b[0;32m~/anaconda3/lib/python3.6/site-packages/requests/models.py\u001b[0m in \u001b[0;36mcontent\u001b[0;34m(self)\u001b[0m\n\u001b[1;32m    821\u001b[0m                 \u001b[0mself\u001b[0m\u001b[0;34m.\u001b[0m\u001b[0m_content\u001b[0m \u001b[0;34m=\u001b[0m \u001b[0;32mNone\u001b[0m\u001b[0;34m\u001b[0m\u001b[0m\n\u001b[1;32m    822\u001b[0m             \u001b[0;32melse\u001b[0m\u001b[0;34m:\u001b[0m\u001b[0;34m\u001b[0m\u001b[0m\n\u001b[0;32m--> 823\u001b[0;31m                 \u001b[0mself\u001b[0m\u001b[0;34m.\u001b[0m\u001b[0m_content\u001b[0m \u001b[0;34m=\u001b[0m \u001b[0mbytes\u001b[0m\u001b[0;34m(\u001b[0m\u001b[0;34m)\u001b[0m\u001b[0;34m.\u001b[0m\u001b[0mjoin\u001b[0m\u001b[0;34m(\u001b[0m\u001b[0mself\u001b[0m\u001b[0;34m.\u001b[0m\u001b[0miter_content\u001b[0m\u001b[0;34m(\u001b[0m\u001b[0mCONTENT_CHUNK_SIZE\u001b[0m\u001b[0;34m)\u001b[0m\u001b[0;34m)\u001b[0m \u001b[0;32mor\u001b[0m \u001b[0mbytes\u001b[0m\u001b[0;34m(\u001b[0m\u001b[0;34m)\u001b[0m\u001b[0;34m\u001b[0m\u001b[0m\n\u001b[0m\u001b[1;32m    824\u001b[0m \u001b[0;34m\u001b[0m\u001b[0m\n\u001b[1;32m    825\u001b[0m         \u001b[0mself\u001b[0m\u001b[0;34m.\u001b[0m\u001b[0m_content_consumed\u001b[0m \u001b[0;34m=\u001b[0m \u001b[0;32mTrue\u001b[0m\u001b[0;34m\u001b[0m\u001b[0m\n",
      "\u001b[0;32m~/anaconda3/lib/python3.6/site-packages/requests/models.py\u001b[0m in \u001b[0;36mgenerate\u001b[0;34m()\u001b[0m\n\u001b[1;32m    743\u001b[0m             \u001b[0;32mif\u001b[0m \u001b[0mhasattr\u001b[0m\u001b[0;34m(\u001b[0m\u001b[0mself\u001b[0m\u001b[0;34m.\u001b[0m\u001b[0mraw\u001b[0m\u001b[0;34m,\u001b[0m \u001b[0;34m'stream'\u001b[0m\u001b[0;34m)\u001b[0m\u001b[0;34m:\u001b[0m\u001b[0;34m\u001b[0m\u001b[0m\n\u001b[1;32m    744\u001b[0m                 \u001b[0;32mtry\u001b[0m\u001b[0;34m:\u001b[0m\u001b[0;34m\u001b[0m\u001b[0m\n\u001b[0;32m--> 745\u001b[0;31m                     \u001b[0;32mfor\u001b[0m \u001b[0mchunk\u001b[0m \u001b[0;32min\u001b[0m \u001b[0mself\u001b[0m\u001b[0;34m.\u001b[0m\u001b[0mraw\u001b[0m\u001b[0;34m.\u001b[0m\u001b[0mstream\u001b[0m\u001b[0;34m(\u001b[0m\u001b[0mchunk_size\u001b[0m\u001b[0;34m,\u001b[0m \u001b[0mdecode_content\u001b[0m\u001b[0;34m=\u001b[0m\u001b[0;32mTrue\u001b[0m\u001b[0;34m)\u001b[0m\u001b[0;34m:\u001b[0m\u001b[0;34m\u001b[0m\u001b[0m\n\u001b[0m\u001b[1;32m    746\u001b[0m                         \u001b[0;32myield\u001b[0m \u001b[0mchunk\u001b[0m\u001b[0;34m\u001b[0m\u001b[0m\n\u001b[1;32m    747\u001b[0m                 \u001b[0;32mexcept\u001b[0m \u001b[0mProtocolError\u001b[0m \u001b[0;32mas\u001b[0m \u001b[0me\u001b[0m\u001b[0;34m:\u001b[0m\u001b[0;34m\u001b[0m\u001b[0m\n",
      "\u001b[0;32m~/anaconda3/lib/python3.6/site-packages/urllib3/response.py\u001b[0m in \u001b[0;36mstream\u001b[0;34m(self, amt, decode_content)\u001b[0m\n\u001b[1;32m    434\u001b[0m         \u001b[0;32melse\u001b[0m\u001b[0;34m:\u001b[0m\u001b[0;34m\u001b[0m\u001b[0m\n\u001b[1;32m    435\u001b[0m             \u001b[0;32mwhile\u001b[0m \u001b[0;32mnot\u001b[0m \u001b[0mis_fp_closed\u001b[0m\u001b[0;34m(\u001b[0m\u001b[0mself\u001b[0m\u001b[0;34m.\u001b[0m\u001b[0m_fp\u001b[0m\u001b[0;34m)\u001b[0m\u001b[0;34m:\u001b[0m\u001b[0;34m\u001b[0m\u001b[0m\n\u001b[0;32m--> 436\u001b[0;31m                 \u001b[0mdata\u001b[0m \u001b[0;34m=\u001b[0m \u001b[0mself\u001b[0m\u001b[0;34m.\u001b[0m\u001b[0mread\u001b[0m\u001b[0;34m(\u001b[0m\u001b[0mamt\u001b[0m\u001b[0;34m=\u001b[0m\u001b[0mamt\u001b[0m\u001b[0;34m,\u001b[0m \u001b[0mdecode_content\u001b[0m\u001b[0;34m=\u001b[0m\u001b[0mdecode_content\u001b[0m\u001b[0;34m)\u001b[0m\u001b[0;34m\u001b[0m\u001b[0m\n\u001b[0m\u001b[1;32m    437\u001b[0m \u001b[0;34m\u001b[0m\u001b[0m\n\u001b[1;32m    438\u001b[0m                 \u001b[0;32mif\u001b[0m \u001b[0mdata\u001b[0m\u001b[0;34m:\u001b[0m\u001b[0;34m\u001b[0m\u001b[0m\n",
      "\u001b[0;32m~/anaconda3/lib/python3.6/site-packages/urllib3/response.py\u001b[0m in \u001b[0;36mread\u001b[0;34m(self, amt, decode_content, cache_content)\u001b[0m\n\u001b[1;32m    382\u001b[0m             \u001b[0;32melse\u001b[0m\u001b[0;34m:\u001b[0m\u001b[0;34m\u001b[0m\u001b[0m\n\u001b[1;32m    383\u001b[0m                 \u001b[0mcache_content\u001b[0m \u001b[0;34m=\u001b[0m \u001b[0;32mFalse\u001b[0m\u001b[0;34m\u001b[0m\u001b[0m\n\u001b[0;32m--> 384\u001b[0;31m                 \u001b[0mdata\u001b[0m \u001b[0;34m=\u001b[0m \u001b[0mself\u001b[0m\u001b[0;34m.\u001b[0m\u001b[0m_fp\u001b[0m\u001b[0;34m.\u001b[0m\u001b[0mread\u001b[0m\u001b[0;34m(\u001b[0m\u001b[0mamt\u001b[0m\u001b[0;34m)\u001b[0m\u001b[0;34m\u001b[0m\u001b[0m\n\u001b[0m\u001b[1;32m    385\u001b[0m                 \u001b[0;32mif\u001b[0m \u001b[0mamt\u001b[0m \u001b[0;34m!=\u001b[0m \u001b[0;36m0\u001b[0m \u001b[0;32mand\u001b[0m \u001b[0;32mnot\u001b[0m \u001b[0mdata\u001b[0m\u001b[0;34m:\u001b[0m  \u001b[0;31m# Platform-specific: Buggy versions of Python.\u001b[0m\u001b[0;34m\u001b[0m\u001b[0m\n\u001b[1;32m    386\u001b[0m                     \u001b[0;31m# Close the connection when no data is returned\u001b[0m\u001b[0;34m\u001b[0m\u001b[0;34m\u001b[0m\u001b[0m\n",
      "\u001b[0;32m~/anaconda3/lib/python3.6/http/client.py\u001b[0m in \u001b[0;36mread\u001b[0;34m(self, amt)\u001b[0m\n\u001b[1;32m    447\u001b[0m             \u001b[0;31m# Amount is given, implement using readinto\u001b[0m\u001b[0;34m\u001b[0m\u001b[0;34m\u001b[0m\u001b[0m\n\u001b[1;32m    448\u001b[0m             \u001b[0mb\u001b[0m \u001b[0;34m=\u001b[0m \u001b[0mbytearray\u001b[0m\u001b[0;34m(\u001b[0m\u001b[0mamt\u001b[0m\u001b[0;34m)\u001b[0m\u001b[0;34m\u001b[0m\u001b[0m\n\u001b[0;32m--> 449\u001b[0;31m             \u001b[0mn\u001b[0m \u001b[0;34m=\u001b[0m \u001b[0mself\u001b[0m\u001b[0;34m.\u001b[0m\u001b[0mreadinto\u001b[0m\u001b[0;34m(\u001b[0m\u001b[0mb\u001b[0m\u001b[0;34m)\u001b[0m\u001b[0;34m\u001b[0m\u001b[0m\n\u001b[0m\u001b[1;32m    450\u001b[0m             \u001b[0;32mreturn\u001b[0m \u001b[0mmemoryview\u001b[0m\u001b[0;34m(\u001b[0m\u001b[0mb\u001b[0m\u001b[0;34m)\u001b[0m\u001b[0;34m[\u001b[0m\u001b[0;34m:\u001b[0m\u001b[0mn\u001b[0m\u001b[0;34m]\u001b[0m\u001b[0;34m.\u001b[0m\u001b[0mtobytes\u001b[0m\u001b[0;34m(\u001b[0m\u001b[0;34m)\u001b[0m\u001b[0;34m\u001b[0m\u001b[0m\n\u001b[1;32m    451\u001b[0m         \u001b[0;32melse\u001b[0m\u001b[0;34m:\u001b[0m\u001b[0;34m\u001b[0m\u001b[0m\n",
      "\u001b[0;32m~/anaconda3/lib/python3.6/http/client.py\u001b[0m in \u001b[0;36mreadinto\u001b[0;34m(self, b)\u001b[0m\n\u001b[1;32m    491\u001b[0m         \u001b[0;31m# connection, and the user is reading more bytes than will be provided\u001b[0m\u001b[0;34m\u001b[0m\u001b[0;34m\u001b[0m\u001b[0m\n\u001b[1;32m    492\u001b[0m         \u001b[0;31m# (for example, reading in 1k chunks)\u001b[0m\u001b[0;34m\u001b[0m\u001b[0;34m\u001b[0m\u001b[0m\n\u001b[0;32m--> 493\u001b[0;31m         \u001b[0mn\u001b[0m \u001b[0;34m=\u001b[0m \u001b[0mself\u001b[0m\u001b[0;34m.\u001b[0m\u001b[0mfp\u001b[0m\u001b[0;34m.\u001b[0m\u001b[0mreadinto\u001b[0m\u001b[0;34m(\u001b[0m\u001b[0mb\u001b[0m\u001b[0;34m)\u001b[0m\u001b[0;34m\u001b[0m\u001b[0m\n\u001b[0m\u001b[1;32m    494\u001b[0m         \u001b[0;32mif\u001b[0m \u001b[0;32mnot\u001b[0m \u001b[0mn\u001b[0m \u001b[0;32mand\u001b[0m \u001b[0mb\u001b[0m\u001b[0;34m:\u001b[0m\u001b[0;34m\u001b[0m\u001b[0m\n\u001b[1;32m    495\u001b[0m             \u001b[0;31m# Ideally, we would raise IncompleteRead if the content-length\u001b[0m\u001b[0;34m\u001b[0m\u001b[0;34m\u001b[0m\u001b[0m\n",
      "\u001b[0;32m~/anaconda3/lib/python3.6/socket.py\u001b[0m in \u001b[0;36mreadinto\u001b[0;34m(self, b)\u001b[0m\n\u001b[1;32m    584\u001b[0m         \u001b[0;32mwhile\u001b[0m \u001b[0;32mTrue\u001b[0m\u001b[0;34m:\u001b[0m\u001b[0;34m\u001b[0m\u001b[0m\n\u001b[1;32m    585\u001b[0m             \u001b[0;32mtry\u001b[0m\u001b[0;34m:\u001b[0m\u001b[0;34m\u001b[0m\u001b[0m\n\u001b[0;32m--> 586\u001b[0;31m                 \u001b[0;32mreturn\u001b[0m \u001b[0mself\u001b[0m\u001b[0;34m.\u001b[0m\u001b[0m_sock\u001b[0m\u001b[0;34m.\u001b[0m\u001b[0mrecv_into\u001b[0m\u001b[0;34m(\u001b[0m\u001b[0mb\u001b[0m\u001b[0;34m)\u001b[0m\u001b[0;34m\u001b[0m\u001b[0m\n\u001b[0m\u001b[1;32m    587\u001b[0m             \u001b[0;32mexcept\u001b[0m \u001b[0mtimeout\u001b[0m\u001b[0;34m:\u001b[0m\u001b[0;34m\u001b[0m\u001b[0m\n\u001b[1;32m    588\u001b[0m                 \u001b[0mself\u001b[0m\u001b[0;34m.\u001b[0m\u001b[0m_timeout_occurred\u001b[0m \u001b[0;34m=\u001b[0m \u001b[0;32mTrue\u001b[0m\u001b[0;34m\u001b[0m\u001b[0m\n",
      "\u001b[0;32m~/anaconda3/lib/python3.6/site-packages/urllib3/contrib/pyopenssl.py\u001b[0m in \u001b[0;36mrecv_into\u001b[0;34m(self, *args, **kwargs)\u001b[0m\n\u001b[1;32m    278\u001b[0m     \u001b[0;32mdef\u001b[0m \u001b[0mrecv_into\u001b[0m\u001b[0;34m(\u001b[0m\u001b[0mself\u001b[0m\u001b[0;34m,\u001b[0m \u001b[0;34m*\u001b[0m\u001b[0margs\u001b[0m\u001b[0;34m,\u001b[0m \u001b[0;34m**\u001b[0m\u001b[0mkwargs\u001b[0m\u001b[0;34m)\u001b[0m\u001b[0;34m:\u001b[0m\u001b[0;34m\u001b[0m\u001b[0m\n\u001b[1;32m    279\u001b[0m         \u001b[0;32mtry\u001b[0m\u001b[0;34m:\u001b[0m\u001b[0;34m\u001b[0m\u001b[0m\n\u001b[0;32m--> 280\u001b[0;31m             \u001b[0;32mreturn\u001b[0m \u001b[0mself\u001b[0m\u001b[0;34m.\u001b[0m\u001b[0mconnection\u001b[0m\u001b[0;34m.\u001b[0m\u001b[0mrecv_into\u001b[0m\u001b[0;34m(\u001b[0m\u001b[0;34m*\u001b[0m\u001b[0margs\u001b[0m\u001b[0;34m,\u001b[0m \u001b[0;34m**\u001b[0m\u001b[0mkwargs\u001b[0m\u001b[0;34m)\u001b[0m\u001b[0;34m\u001b[0m\u001b[0m\n\u001b[0m\u001b[1;32m    281\u001b[0m         \u001b[0;32mexcept\u001b[0m \u001b[0mOpenSSL\u001b[0m\u001b[0;34m.\u001b[0m\u001b[0mSSL\u001b[0m\u001b[0;34m.\u001b[0m\u001b[0mSysCallError\u001b[0m \u001b[0;32mas\u001b[0m \u001b[0me\u001b[0m\u001b[0;34m:\u001b[0m\u001b[0;34m\u001b[0m\u001b[0m\n\u001b[1;32m    282\u001b[0m             \u001b[0;32mif\u001b[0m \u001b[0mself\u001b[0m\u001b[0;34m.\u001b[0m\u001b[0msuppress_ragged_eofs\u001b[0m \u001b[0;32mand\u001b[0m \u001b[0me\u001b[0m\u001b[0;34m.\u001b[0m\u001b[0margs\u001b[0m \u001b[0;34m==\u001b[0m \u001b[0;34m(\u001b[0m\u001b[0;34m-\u001b[0m\u001b[0;36m1\u001b[0m\u001b[0;34m,\u001b[0m \u001b[0;34m'Unexpected EOF'\u001b[0m\u001b[0;34m)\u001b[0m\u001b[0;34m:\u001b[0m\u001b[0;34m\u001b[0m\u001b[0m\n",
      "\u001b[0;32m~/anaconda3/lib/python3.6/site-packages/OpenSSL/SSL.py\u001b[0m in \u001b[0;36mrecv_into\u001b[0;34m(self, buffer, nbytes, flags)\u001b[0m\n\u001b[1;32m   1713\u001b[0m         \u001b[0;32melse\u001b[0m\u001b[0;34m:\u001b[0m\u001b[0;34m\u001b[0m\u001b[0m\n\u001b[1;32m   1714\u001b[0m             \u001b[0mresult\u001b[0m \u001b[0;34m=\u001b[0m \u001b[0m_lib\u001b[0m\u001b[0;34m.\u001b[0m\u001b[0mSSL_read\u001b[0m\u001b[0;34m(\u001b[0m\u001b[0mself\u001b[0m\u001b[0;34m.\u001b[0m\u001b[0m_ssl\u001b[0m\u001b[0;34m,\u001b[0m \u001b[0mbuf\u001b[0m\u001b[0;34m,\u001b[0m \u001b[0mnbytes\u001b[0m\u001b[0;34m)\u001b[0m\u001b[0;34m\u001b[0m\u001b[0m\n\u001b[0;32m-> 1715\u001b[0;31m         \u001b[0mself\u001b[0m\u001b[0;34m.\u001b[0m\u001b[0m_raise_ssl_error\u001b[0m\u001b[0;34m(\u001b[0m\u001b[0mself\u001b[0m\u001b[0;34m.\u001b[0m\u001b[0m_ssl\u001b[0m\u001b[0;34m,\u001b[0m \u001b[0mresult\u001b[0m\u001b[0;34m)\u001b[0m\u001b[0;34m\u001b[0m\u001b[0m\n\u001b[0m\u001b[1;32m   1716\u001b[0m \u001b[0;34m\u001b[0m\u001b[0m\n\u001b[1;32m   1717\u001b[0m         \u001b[0;31m# This strange line is all to avoid a memory copy. The buffer protocol\u001b[0m\u001b[0;34m\u001b[0m\u001b[0;34m\u001b[0m\u001b[0m\n",
      "\u001b[0;32m~/anaconda3/lib/python3.6/site-packages/OpenSSL/SSL.py\u001b[0m in \u001b[0;36m_raise_ssl_error\u001b[0;34m(self, ssl, result)\u001b[0m\n\u001b[1;32m   1517\u001b[0m             \u001b[0mself\u001b[0m\u001b[0;34m.\u001b[0m\u001b[0m_context\u001b[0m\u001b[0;34m.\u001b[0m\u001b[0m_ocsp_helper\u001b[0m\u001b[0;34m.\u001b[0m\u001b[0mraise_if_problem\u001b[0m\u001b[0;34m(\u001b[0m\u001b[0;34m)\u001b[0m\u001b[0;34m\u001b[0m\u001b[0m\n\u001b[1;32m   1518\u001b[0m \u001b[0;34m\u001b[0m\u001b[0m\n\u001b[0;32m-> 1519\u001b[0;31m         \u001b[0merror\u001b[0m \u001b[0;34m=\u001b[0m \u001b[0m_lib\u001b[0m\u001b[0;34m.\u001b[0m\u001b[0mSSL_get_error\u001b[0m\u001b[0;34m(\u001b[0m\u001b[0mssl\u001b[0m\u001b[0;34m,\u001b[0m \u001b[0mresult\u001b[0m\u001b[0;34m)\u001b[0m\u001b[0;34m\u001b[0m\u001b[0m\n\u001b[0m\u001b[1;32m   1520\u001b[0m         \u001b[0;32mif\u001b[0m \u001b[0merror\u001b[0m \u001b[0;34m==\u001b[0m \u001b[0m_lib\u001b[0m\u001b[0;34m.\u001b[0m\u001b[0mSSL_ERROR_WANT_READ\u001b[0m\u001b[0;34m:\u001b[0m\u001b[0;34m\u001b[0m\u001b[0m\n\u001b[1;32m   1521\u001b[0m             \u001b[0;32mraise\u001b[0m \u001b[0mWantReadError\u001b[0m\u001b[0;34m(\u001b[0m\u001b[0;34m)\u001b[0m\u001b[0;34m\u001b[0m\u001b[0m\n",
      "\u001b[0;31mKeyboardInterrupt\u001b[0m: "
     ]
    }
   ],
   "source": [
    "%time get_all_data()"
   ]
  },
  {
   "cell_type": "code",
   "execution_count": null,
   "metadata": {},
   "outputs": [],
   "source": []
  },
  {
   "cell_type": "code",
   "execution_count": null,
   "metadata": {},
   "outputs": [],
   "source": []
  },
  {
   "cell_type": "code",
   "execution_count": null,
   "metadata": {},
   "outputs": [],
   "source": []
  },
  {
   "cell_type": "code",
   "execution_count": null,
   "metadata": {},
   "outputs": [],
   "source": []
  },
  {
   "cell_type": "markdown",
   "metadata": {},
   "source": [
    "The following MySQL statement was used to create a basic table to store the data\n",
    "\n",
    "    create table weather (Observation_date DATETIME, rain DOUBLE, temp DOUBLE, wet_bulb_temp DOUBLE, dew_point_temp DOUBLE, vapour_pressure DOUBLE, relative_humidity DOUBLE, mean_sea_level_pressure DOUBLE, mean_wind_speed DOUBLE, predominant_wind_direction DOUBLE, height int, latitude DOUBLE, longitude DOUBLE, station varchar(255), county varchar(255));"
   ]
  }
 ],
 "metadata": {
  "kernelspec": {
   "display_name": "Python 3",
   "language": "python",
   "name": "python3"
  },
  "language_info": {
   "codemirror_mode": {
    "name": "ipython",
    "version": 3
   },
   "file_extension": ".py",
   "mimetype": "text/x-python",
   "name": "python",
   "nbconvert_exporter": "python",
   "pygments_lexer": "ipython3",
   "version": "3.6.4"
  }
 },
 "nbformat": 4,
 "nbformat_minor": 2
}
