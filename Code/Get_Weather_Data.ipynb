{
 "cells": [
  {
   "cell_type": "markdown",
   "metadata": {},
   "source": [
    "# Note:\n",
    "\n",
    "If running this file, a local mysql database is required that gives **root access**, has a **password set to MyNewPass** and contains a **database called Weather_Data**. Furthermore a table in this database called **weather is required.**"
   ]
  },
  {
   "cell_type": "code",
   "execution_count": 1,
   "metadata": {},
   "outputs": [],
   "source": [
    "import pandas as pd\n",
    "import numpy as np\n",
    "import datetime as dt\n",
    "from urllib.request import urlopen\n",
    "import requests\n",
    "from bs4 import BeautifulSoup\n",
    "from zipfile import ZipFile\n",
    "import io\n",
    "import os.path\n",
    "import mysql.connector"
   ]
  },
  {
   "cell_type": "code",
   "execution_count": 2,
   "metadata": {},
   "outputs": [],
   "source": [
    "def create_connection():\n",
    "    cnx2 = mysql.connector.connect(host='localhost',\n",
    "                                   user='root', password='MyNewPass',\n",
    "                                   database='Weather_Data')\n",
    "    return cnx2"
   ]
  },
  {
   "cell_type": "code",
   "execution_count": 3,
   "metadata": {},
   "outputs": [],
   "source": [
    "def insert_data(data):\n",
    "    conn = create_connection()\n",
    "    cursor = conn.cursor()\n",
    "    \n",
    "    for row in data.iterrows():\n",
    "        row = row[1]\n",
    "        row[0] = dt.datetime.strptime(row[0], '%d-%b-%Y %H:%M')\n",
    "        query = \"Insert into weather (Observation_date, rain, temp, wet_bulb_temp,dew_point_temp, vapour_pressure, relative_humidity, mean_sea_level_pressure, mean_wind_speed, predominant_wind_direction, height, latitude, longitude,station, county) values(%s,%s,%s,%s,%s,%s,%s,%s,%s,%s,%s,%s,%s,%s,%s);\"\n",
    "        cursor.execute(query, [items for items in row])\n",
    "        conn.commit()\n",
    "    \n",
    "    print('Finished Insert')\n",
    "        \n",
    "    cursor.close()\n",
    "    conn.close()\n",
    "        \n",
    "    "
   ]
  },
  {
   "cell_type": "code",
   "execution_count": 4,
   "metadata": {},
   "outputs": [],
   "source": [
    "def get_html(url):\n",
    "    html_content = urlopen(url)\n",
    "    content = BeautifulSoup(html_content, \"lxml\")\n",
    "    html_content.close()\n",
    "    return content"
   ]
  },
  {
   "cell_type": "code",
   "execution_count": 5,
   "metadata": {},
   "outputs": [],
   "source": [
    "def data_type(raw_html):\n",
    "    #look for all forms with name attribute = bar\n",
    "    forms = raw_html.find_all('form',{'name':'bar'})\n",
    "    #get all the inupt tags in the form\n",
    "    inputs = forms[0].find_all('input',{'name':'stntype'})\n",
    "    #manually set the text as its not wrapped in any tags in the html\n",
    "    keys = ['Hourly', 'Daily', 'Monthly']\n",
    "    radio_button_params = {}\n",
    "    \n",
    "    for index, input_tag in enumerate(inputs):\n",
    "        radio_button_params[keys[index]] = input_tag.attrs['value']\n",
    "    \n",
    "    return radio_button_params"
   ]
  },
  {
   "cell_type": "code",
   "execution_count": 6,
   "metadata": {},
   "outputs": [],
   "source": [
    "def get_counties(raw_html):\n",
    "    forms = raw_html.find_all('form',{'name':'bar'})\n",
    "    #get all the option tags in the form\n",
    "    selects = forms[0].find_all('option')\n",
    "    counties ={}\n",
    "    for item in selects:\n",
    "        if item.attrs['value'] != '0':\n",
    "            counties[item.text] = item.attrs['value']\n",
    "    \n",
    "    return counties"
   ]
  },
  {
   "cell_type": "code",
   "execution_count": 7,
   "metadata": {},
   "outputs": [],
   "source": [
    "def get_stations(raw_html):\n",
    "    forms = raw_html.find_all('form',{'name':'bar'})\n",
    "    #get all the select tags in the form\n",
    "    selects = forms[0].find_all('select',{'name':'stn'})\n",
    "    options = selects[0].find_all('option')\n",
    "    stations = {}\n",
    "    \n",
    "    for opt in options:\n",
    "        if opt.text != 'Name':\n",
    "            stations[opt.text] = opt.attrs['value']\n",
    "            \n",
    "    return stations\n",
    "    "
   ]
  },
  {
   "cell_type": "code",
   "execution_count": 8,
   "metadata": {},
   "outputs": [],
   "source": [
    "def remove_null(weather_data):   \n",
    "    weather_data = weather_data.dropna(thresh=12)\n",
    "    weather_data.fillna(0, inplace=True)\n",
    "    \n",
    "    return weather_data"
   ]
  },
  {
   "cell_type": "code",
   "execution_count": 9,
   "metadata": {},
   "outputs": [],
   "source": [
    "def read_files(data, file_name, key, station_k):\n",
    "    with ZipFile(io.BytesIO(data.content)) as z:\n",
    "        for file in z.infolist():\n",
    "            if file.filename == file_name:\n",
    "                columns = ['date', 'rain', 'temp', 'wetb', 'dewpt','vappr', 'rhum', 'msl', 'wdsp', 'wddir']\n",
    "\n",
    "                with z.open(file) as thefile:\n",
    "                    extra = pd.read_csv(thefile, nrows=2, header=None)\n",
    "                    height = int(extra[0][1].split()[2])\n",
    "\n",
    "                    with z.open(file) as thefile:\n",
    "                        extra = pd.read_csv(thefile,skiprows=2, nrows=1, header=None)\n",
    "                        latitude = float(extra[0][0].split(':')[1].strip())\n",
    "                        longitude = float(extra[1][0].split(':')[1].strip())\n",
    "                        del(extra)\n",
    "\n",
    "                with z.open(file) as thefile:\n",
    "                    #header rows start at different points.\n",
    "                    try:\n",
    "                        weather_data = pd.read_csv(thefile,skiprows=16,header=0,usecols=columns)\n",
    "                    except:\n",
    "                        with z.open(file) as thefile:\n",
    "                            weather_data = pd.read_csv(thefile,skiprows=23,header=0,usecols=columns)\n",
    "\n",
    "\n",
    "                    weather_data['height'] = height\n",
    "                    weather_data['latitude'] = latitude\n",
    "                    weather_data['longitude'] = longitude\n",
    "                    weather_data['station'] = station_k\n",
    "                    weather_data['county'] = key\n",
    "\n",
    "                    #need to convert empty strings to 0\n",
    "                    weather_data.replace(' ', np.nan, inplace=True)\n",
    "                    weather_data = remove_null(weather_data)\n",
    "\n",
    "                    for cols in weather_data.columns:\n",
    "                        if cols not in ['date','height','station','county']:\n",
    "                            weather_data[cols] = weather_data[cols].astype(np.float64)\n",
    "\n",
    "                    print('Starting Insert')\n",
    "\n",
    "                    weather_data.reset_index(drop=True, inplace=True)\n",
    "                    insert_data(weather_data)\n",
    "    "
   ]
  },
  {
   "cell_type": "code",
   "execution_count": 10,
   "metadata": {},
   "outputs": [],
   "source": [
    "def get_params(url):\n",
    "    base_download_url = 'https://cli.fusio.net/cli/climate_data/webdata/hly'\n",
    "\n",
    "    raw_html = get_html(url)\n",
    "    radio_buttons = data_type(raw_html)\n",
    "    \n",
    "    #make post request with appropriate radio buttons and get updated form html\n",
    "    \n",
    "    new_html = requests.post(url, data={'stntype':radio_buttons['Hourly']})\n",
    "    new_html = BeautifulSoup(new_html.text, \"lxml\")\n",
    "    \n",
    "    counties = get_counties(new_html)\n",
    "    \n",
    "    for key, value in counties.items():        \n",
    "        new_html = requests.post(url, data={'stntype':radio_buttons['Hourly'], 'countyno':counties[key]})\n",
    "        new_html = BeautifulSoup(new_html.text, \"lxml\")\n",
    "        \n",
    "        stations = get_stations(new_html)\n",
    "        for station_k, station_v in stations.items():\n",
    "            print('Preparing insert for county: ', key ,' station: ', station_k)\n",
    "            \n",
    "            if str(stations[station_k]) not in ['175','1275']:\n",
    "                #175 represents pheonix park which has no wind speed/direction data\n",
    "                \n",
    "                download_url = base_download_url + str(stations[station_k]) +'.zip'\n",
    "            \n",
    "                #Had to change jupyter notebooks data io rate limit from 1mb/sec to 20mb/sec\n",
    "                #Also changed the time limit from 3 secs to 30 seconds in notebookapp.py\n",
    "\n",
    "                data = requests.get(download_url)\n",
    "                file_name = 'hly' + str(stations[station_k]) + '.csv'\n",
    "\n",
    "                read_files(data, file_name, key, station_k)\n"
   ]
  },
  {
   "cell_type": "code",
   "execution_count": 11,
   "metadata": {},
   "outputs": [],
   "source": [
    "def get_all_data():\n",
    "    # To download full data series, need to send post request that says if its hourly, daily or monthly data\n",
    "    base_url = 'https://cli.fusio.net/cli/climate_data/showdata.php'\n",
    "    data = get_params(base_url)\n",
    "    "
   ]
  },
  {
   "cell_type": "code",
   "execution_count": 12,
   "metadata": {},
   "outputs": [
    {
     "name": "stdout",
     "output_type": "stream",
     "text": [
      "Preparing insert for county:  Carlow  station:  Oak_Park\n"
     ]
    },
    {
     "name": "stderr",
     "output_type": "stream",
     "text": [
      "/home/gspc/anaconda3/lib/python3.6/site-packages/pandas/core/frame.py:3035: SettingWithCopyWarning: \n",
      "A value is trying to be set on a copy of a slice from a DataFrame\n",
      "\n",
      "See the caveats in the documentation: http://pandas.pydata.org/pandas-docs/stable/indexing.html#indexing-view-versus-copy\n",
      "  downcast=downcast, **kwargs)\n"
     ]
    },
    {
     "name": "stdout",
     "output_type": "stream",
     "text": [
      "Starting Insert\n",
      "Finished Insert\n",
      "Preparing insert for county:  Cavan  station:  Ballyhaise\n",
      "Starting Insert\n",
      "Finished Insert\n",
      "Preparing insert for county:  Clare  station:  Shannon_Airport\n"
     ]
    },
    {
     "name": "stderr",
     "output_type": "stream",
     "text": [
      "/home/gspc/anaconda3/lib/python3.6/site-packages/ipykernel_launcher.py:1: DtypeWarning: Columns (6,12,14) have mixed types. Specify dtype option on import or set low_memory=False.\n",
      "  \"\"\"Entry point for launching an IPython kernel.\n"
     ]
    },
    {
     "name": "stdout",
     "output_type": "stream",
     "text": [
      "Starting Insert\n",
      "Finished Insert\n",
      "Preparing insert for county:  Cork  station:  Cork_Airport\n"
     ]
    },
    {
     "name": "stderr",
     "output_type": "stream",
     "text": [
      "/home/gspc/anaconda3/lib/python3.6/site-packages/ipykernel_launcher.py:1: DtypeWarning: Columns (6,8,9) have mixed types. Specify dtype option on import or set low_memory=False.\n",
      "  \"\"\"Entry point for launching an IPython kernel.\n"
     ]
    },
    {
     "name": "stdout",
     "output_type": "stream",
     "text": [
      "Starting Insert\n",
      "Finished Insert\n",
      "Preparing insert for county:  Cork  station:  Moore_Park\n",
      "Starting Insert\n",
      "Finished Insert\n",
      "Preparing insert for county:  Cork  station:  Roches_Point\n"
     ]
    },
    {
     "name": "stderr",
     "output_type": "stream",
     "text": [
      "/home/gspc/anaconda3/lib/python3.6/site-packages/ipykernel_launcher.py:1: DtypeWarning: Columns (4) have mixed types. Specify dtype option on import or set low_memory=False.\n",
      "  \"\"\"Entry point for launching an IPython kernel.\n"
     ]
    },
    {
     "name": "stdout",
     "output_type": "stream",
     "text": [
      "Starting Insert\n",
      "Finished Insert\n",
      "Preparing insert for county:  Cork  station:  SherkinIsland\n",
      "Starting Insert\n",
      "Finished Insert\n",
      "Preparing insert for county:  Donegal  station:  Finner\n",
      "Starting Insert\n",
      "Finished Insert\n",
      "Preparing insert for county:  Donegal  station:  Malin_head\n"
     ]
    },
    {
     "name": "stderr",
     "output_type": "stream",
     "text": [
      "/home/gspc/anaconda3/lib/python3.6/site-packages/ipykernel_launcher.py:1: DtypeWarning: Columns (2,4,6,7,8,9,10,12,14) have mixed types. Specify dtype option on import or set low_memory=False.\n",
      "  \"\"\"Entry point for launching an IPython kernel.\n"
     ]
    },
    {
     "name": "stdout",
     "output_type": "stream",
     "text": [
      "Starting Insert\n",
      "Finished Insert\n",
      "Preparing insert for county:  Dublin  station:  Casement\n"
     ]
    },
    {
     "name": "stderr",
     "output_type": "stream",
     "text": [
      "/home/gspc/anaconda3/lib/python3.6/site-packages/ipykernel_launcher.py:1: DtypeWarning: Columns (6) have mixed types. Specify dtype option on import or set low_memory=False.\n",
      "  \"\"\"Entry point for launching an IPython kernel.\n"
     ]
    },
    {
     "name": "stdout",
     "output_type": "stream",
     "text": [
      "Starting Insert\n",
      "Finished Insert\n",
      "Preparing insert for county:  Dublin  station:  Dublin_Airport\n"
     ]
    },
    {
     "name": "stderr",
     "output_type": "stream",
     "text": [
      "/home/gspc/anaconda3/lib/python3.6/site-packages/ipykernel_launcher.py:1: DtypeWarning: Columns (8,9,14) have mixed types. Specify dtype option on import or set low_memory=False.\n",
      "  \"\"\"Entry point for launching an IPython kernel.\n"
     ]
    },
    {
     "name": "stdout",
     "output_type": "stream",
     "text": [
      "Starting Insert\n",
      "Finished Insert\n",
      "Preparing insert for county:  Dublin  station:  PhoenixPark\n",
      "Preparing insert for county:  Galway  station:  Athenry\n",
      "Starting Insert\n",
      "Finished Insert\n",
      "Preparing insert for county:  Galway  station:  Mace_Head\n",
      "Starting Insert\n",
      "Finished Insert\n",
      "Preparing insert for county:  Kerry  station:  Valentia_Observatory\n",
      "Starting Insert\n",
      "Finished Insert\n",
      "Preparing insert for county:  Mayo  station:  Belmullet\n",
      "Starting Insert\n",
      "Finished Insert\n",
      "Preparing insert for county:  Mayo  station:  Claremorris\n",
      "Starting Insert\n",
      "Finished Insert\n",
      "Preparing insert for county:  Mayo  station:  Knock_Airport\n"
     ]
    },
    {
     "name": "stderr",
     "output_type": "stream",
     "text": [
      "/home/gspc/anaconda3/lib/python3.6/site-packages/ipykernel_launcher.py:1: DtypeWarning: Columns (2,10,12,14) have mixed types. Specify dtype option on import or set low_memory=False.\n",
      "  \"\"\"Entry point for launching an IPython kernel.\n"
     ]
    },
    {
     "name": "stdout",
     "output_type": "stream",
     "text": [
      "Starting Insert\n",
      "Finished Insert\n",
      "Preparing insert for county:  Mayo  station:  Newport\n",
      "Starting Insert\n",
      "Finished Insert\n",
      "Preparing insert for county:  Meath  station:  Dunsany\n",
      "Starting Insert\n",
      "Finished Insert\n",
      "Preparing insert for county:  Roscommon  station:  Mt_Dillon\n"
     ]
    },
    {
     "name": "stderr",
     "output_type": "stream",
     "text": [
      "/home/gspc/anaconda3/lib/python3.6/site-packages/ipykernel_launcher.py:1: DtypeWarning: Columns (4,6,7,8,9,10,12) have mixed types. Specify dtype option on import or set low_memory=False.\n",
      "  \"\"\"Entry point for launching an IPython kernel.\n"
     ]
    },
    {
     "name": "stdout",
     "output_type": "stream",
     "text": [
      "Starting Insert\n",
      "Finished Insert\n",
      "Preparing insert for county:  Sligo  station:  Markree\n",
      "Preparing insert for county:  Tipperary  station:  Gurteen\n"
     ]
    },
    {
     "name": "stderr",
     "output_type": "stream",
     "text": [
      "/home/gspc/anaconda3/lib/python3.6/site-packages/ipykernel_launcher.py:1: DtypeWarning: Columns (4,6,7,8,9,10,12,14) have mixed types. Specify dtype option on import or set low_memory=False.\n",
      "  \"\"\"Entry point for launching an IPython kernel.\n"
     ]
    },
    {
     "name": "stdout",
     "output_type": "stream",
     "text": [
      "Starting Insert\n",
      "Finished Insert\n",
      "Preparing insert for county:  Westmeath  station:  Mullingar\n",
      "Starting Insert\n",
      "Finished Insert\n",
      "Preparing insert for county:  Wexford  station:  JohnstownII\n",
      "Starting Insert\n",
      "Finished Insert\n",
      "CPU times: user 1h 23min 33s, sys: 8min 40s, total: 1h 32min 13s\n",
      "Wall time: 4h 12min 20s\n"
     ]
    }
   ],
   "source": [
    "%time get_all_data()"
   ]
  },
  {
   "cell_type": "code",
   "execution_count": null,
   "metadata": {},
   "outputs": [],
   "source": []
  },
  {
   "cell_type": "code",
   "execution_count": null,
   "metadata": {},
   "outputs": [],
   "source": []
  },
  {
   "cell_type": "code",
   "execution_count": null,
   "metadata": {},
   "outputs": [],
   "source": []
  },
  {
   "cell_type": "code",
   "execution_count": null,
   "metadata": {},
   "outputs": [],
   "source": []
  },
  {
   "cell_type": "markdown",
   "metadata": {},
   "source": [
    "The following MySQL statement was used to create a basic table to store the data\n",
    "\n",
    "    create table weather (Observation_date DATETIME, rain DOUBLE, temp DOUBLE, wet_bulb_temp DOUBLE, dew_point_temp DOUBLE, vapour_pressure DOUBLE, relative_humidity DOUBLE, mean_sea_level_pressure DOUBLE, mean_wind_speed DOUBLE, predominant_wind_direction DOUBLE, height int, latitude DOUBLE, longitude DOUBLE, station varchar(255), county varchar(255));"
   ]
  }
 ],
 "metadata": {
  "kernelspec": {
   "display_name": "Python 3",
   "language": "python",
   "name": "python3"
  },
  "language_info": {
   "codemirror_mode": {
    "name": "ipython",
    "version": 3
   },
   "file_extension": ".py",
   "mimetype": "text/x-python",
   "name": "python",
   "nbconvert_exporter": "python",
   "pygments_lexer": "ipython3",
   "version": "3.6.4"
  }
 },
 "nbformat": 4,
 "nbformat_minor": 2
}
