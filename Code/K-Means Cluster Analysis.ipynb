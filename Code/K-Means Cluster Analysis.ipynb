{
 "cells": [
  {
   "cell_type": "code",
   "execution_count": 1,
   "metadata": {},
   "outputs": [
    {
     "name": "stderr",
     "output_type": "stream",
     "text": [
      "/home/gspc/anaconda3/lib/python3.6/site-packages/statsmodels/compat/pandas.py:56: FutureWarning: The pandas.core.datetools module is deprecated and will be removed in a future version. Please use the pandas.tseries module instead.\n",
      "  from pandas.core import datetools\n"
     ]
    }
   ],
   "source": [
    "import pandas as pd\n",
    "import numpy as np\n",
    "import datetime as dt\n",
    "import mysql.connector\n",
    "import gc\n",
    "import seaborn as sns\n",
    "import matplotlib.pyplot as plt\n",
    "import statsmodels.api as sm\n",
    "from statsmodels.stats.outliers_influence import variance_inflation_factor\n",
    "from patsy import dmatrices\n",
    "from pandas.core import datetools\n",
    "from sklearn.metrics import r2_score, mean_squared_error\n",
    "from sklearn.preprocessing import StandardScaler\n",
    "from sklearn.preprocessing import LabelBinarizer\n",
    "from sklearn.cluster import KMeans\n",
    "\n",
    "sns.set_style('darkgrid')\n",
    "pd.options.display.float_format = '{:,.2f}'.format\n",
    "pd.options.display.max_columns = None"
   ]
  },
  {
   "cell_type": "code",
   "execution_count": 2,
   "metadata": {},
   "outputs": [],
   "source": [
    "def create_connection():\n",
    "    cnx2 = mysql.connector.connect(host='localhost',\n",
    "                                   user='root', password='MyNewPass',\n",
    "                                   database='Weather_Data')\n",
    "    return cnx2"
   ]
  },
  {
   "cell_type": "code",
   "execution_count": 3,
   "metadata": {},
   "outputs": [],
   "source": [
    "def select_data():\n",
    "    conn = create_connection()\n",
    "    cursor = conn.cursor()\n",
    "    print('Extracting Data')\n",
    "    query = \"Select * from weather where Observation_date <= '2018-06-01 00:00:00';\"\n",
    "    cursor.execute(query, )\n",
    "    result = cursor.fetchall()\n",
    "    print('Extracted Data')\n",
    "        \n",
    "    cursor.close()\n",
    "    conn.close()\n",
    "    \n",
    "    return result\n",
    "    "
   ]
  },
  {
   "cell_type": "code",
   "execution_count": 4,
   "metadata": {},
   "outputs": [],
   "source": [
    "def null_values(data):\n",
    "    print(data.isnull().sum())"
   ]
  },
  {
   "cell_type": "code",
   "execution_count": 5,
   "metadata": {},
   "outputs": [],
   "source": [
    "def change_structure(data):\n",
    "    cols = ['date', 'rain', 'temp', 'wetb', 'dewpt','vappr', 'rhum', 'msl', 'wdsp', 'wddir','height','latitude', 'longitude', 'station','county']\n",
    "    data = pd.DataFrame(data, columns=cols)\n",
    "    \n",
    "    data.fillna(0, inplace=True)\n",
    "    return data"
   ]
  },
  {
   "cell_type": "code",
   "execution_count": 6,
   "metadata": {},
   "outputs": [],
   "source": [
    "def split_time(data):\n",
    "    data['date'] = pd.to_datetime(data['date'])\n",
    "    data['year'] = data['date'].dt.year.astype(np.uint32)\n",
    "    data['month'] = data['date'].dt.month.astype(np.uint8)\n",
    "    data['day'] = data['date'].dt.day.astype(np.uint8)\n",
    "    data['hour'] = data['date'].dt.hour.astype(np.uint8)\n",
    "    \n",
    "    return data"
   ]
  },
  {
   "cell_type": "code",
   "execution_count": 7,
   "metadata": {},
   "outputs": [],
   "source": [
    "def generate_season(data):\n",
    "    data['season'] = pd.cut(data['month'], bins=[0,1,4,7,10,14], labels=['Winter','Spring','Summer','Autumn','Winter2']).str.replace('Winter2','Winter')\n",
    "    data['season'] = data['season'].astype('category')\n",
    "    return data"
   ]
  },
  {
   "cell_type": "code",
   "execution_count": 8,
   "metadata": {},
   "outputs": [],
   "source": [
    "def convert_wdsp(data):\n",
    "    data['wdsp'] = data['wdsp'] * 1.852\n",
    "    \n",
    "    return data"
   ]
  },
  {
   "cell_type": "code",
   "execution_count": 9,
   "metadata": {},
   "outputs": [],
   "source": [
    "def update_rhum_values(data):\n",
    "    print('Updating relative humidity values <= 0')\n",
    "    rhum_mean = data['rhum'].mean()\n",
    "    data.loc[data['rhum'] <= 0, 'rhum'] = rhum_mean\n",
    "    \n",
    "    return data"
   ]
  },
  {
   "cell_type": "code",
   "execution_count": 10,
   "metadata": {},
   "outputs": [],
   "source": [
    "def update_wetb_values(data):\n",
    "    print('Updating wet bulb air temperature values <= 0')\n",
    "    wetb_mean = data['wetb'].mean()\n",
    "    data.loc[data['wetb'] <= -40, 'wetb'] = wetb_mean\n",
    "    \n",
    "    return data"
   ]
  },
  {
   "cell_type": "code",
   "execution_count": 11,
   "metadata": {},
   "outputs": [],
   "source": [
    "def update_dewpt_values(data):\n",
    "    print('Updating dew point air temperature values <= 0')\n",
    "    dewpt_mean = data['dewpt'].mean()\n",
    "    data.loc[data['dewpt'] <= -20,'dewpt'] = dewpt_mean\n",
    "    \n",
    "    return data"
   ]
  },
  {
   "cell_type": "code",
   "execution_count": 12,
   "metadata": {},
   "outputs": [],
   "source": [
    "def update_msl_values(data):\n",
    "    print('Updating mean sea level pressure values <= 0')\n",
    "    msl_mean = data['msl'].mean() \n",
    "    data.loc[data['msl'] < 940, 'msl'] = msl_mean\n",
    "    \n",
    "    return data"
   ]
  },
  {
   "cell_type": "code",
   "execution_count": 13,
   "metadata": {},
   "outputs": [],
   "source": [
    "def update_vappr_values(data):\n",
    "    print('Updating vapour pressure values <= 0')\n",
    "    vappr_mean = data['vappr'].mean()\n",
    "    data.loc[data['vappr'] <= 0, 'vappr'] = vappr_mean\n",
    "    \n",
    "    return data"
   ]
  },
  {
   "cell_type": "code",
   "execution_count": 14,
   "metadata": {},
   "outputs": [],
   "source": [
    "def binarize_categories(data):\n",
    "    print('Binarizing categorical data')\n",
    "    \n",
    "    categorical_columns = []\n",
    "\n",
    "    for col in data.columns:\n",
    "        if isinstance(data[col][0], str):\n",
    "            print('Changing ', col, ' to categorical')\n",
    "            categorical_columns.append(col)\n",
    "            encoder = LabelBinarizer()\n",
    "            data[col] = encoder.fit_transform(data[col])\n",
    "    \n",
    "    data = delete_original_categories(categorical_columns, data)\n",
    "        \n",
    "    return data"
   ]
  },
  {
   "cell_type": "code",
   "execution_count": 15,
   "metadata": {},
   "outputs": [],
   "source": [
    "def delete_original_categories(categorical_columns, data):\n",
    "    print('Deleting original categories')\n",
    "    for col in categorical_columns:\n",
    "        if col in data.columns:\n",
    "            del(data[col])\n",
    "            gc.collect()\n",
    "    return data"
   ]
  },
  {
   "cell_type": "code",
   "execution_count": 16,
   "metadata": {},
   "outputs": [],
   "source": [
    "def basic_numeric_analysis(data):\n",
    "    cols = ['rain', 'temp', 'wetb', 'dewpt','vappr', 'rhum', 'msl', 'wdsp', 'wddir']\n",
    "    raw_data = data[cols]\n",
    "    print(pd.DataFrame(raw_data.describe()))"
   ]
  },
  {
   "cell_type": "code",
   "execution_count": 17,
   "metadata": {},
   "outputs": [],
   "source": [
    "def get_categorical_data(data):\n",
    "    categorical_data = data[['station','county','season']]\n",
    "    return categorical_data"
   ]
  },
  {
   "cell_type": "code",
   "execution_count": 18,
   "metadata": {},
   "outputs": [],
   "source": [
    "def normalise_data(data):\n",
    "    print('Normalising data')\n",
    "    data = data.reset_index()\n",
    "    data.drop(columns=['date','station','county','season'], inplace=True)\n",
    "    column_names = data.columns\n",
    "    scaler = StandardScaler()\n",
    "    normalised_data = scaler.fit_transform(data)\n",
    "    normalised_data = pd.DataFrame(normalised_data, columns=column_names)\n",
    "    \n",
    "    return [normalised_data,scaler,column_names]"
   ]
  },
  {
   "cell_type": "code",
   "execution_count": 19,
   "metadata": {},
   "outputs": [],
   "source": [
    "def generate_clusters(data):\n",
    "    clusters = KMeans(n_clusters=4, random_state=0).fit(data)\n",
    "    return [clusters.cluster_centers_, clusters.labels_]"
   ]
  },
  {
   "cell_type": "code",
   "execution_count": 20,
   "metadata": {},
   "outputs": [],
   "source": [
    "def recombine(normalised_data, cluster_labels, categorical_data, scaler, column_names):\n",
    "    print(normalised_data.shape)\n",
    "    data = scaler.inverse_transform(normalised_data)\n",
    "    inverse_data = pd.DataFrame(data=data,\n",
    "          index=np.array(range(0, 4039565)),\n",
    "          columns=np.array(range(0, 17)))\n",
    "    \n",
    "    inverse_data.columns = column_names\n",
    "    main_data = pd.merge(inverse_data, categorical_data, left_index=True, right_index=True)\n",
    "    main_data['cluster'] = cluster_labels\n",
    "    \n",
    "    return main_data\n",
    "    "
   ]
  },
  {
   "cell_type": "code",
   "execution_count": 30,
   "metadata": {},
   "outputs": [],
   "source": [
    "def cluster_statistics(data):\n",
    "    print(data['cluster'].value_counts(),'\\n')\n",
    "    \n",
    "    cluster_0 = data[data['cluster']==0]\n",
    "    cluster_1 = data[data['cluster']==1]\n",
    "    cluster_2 = data[data['cluster']==2]\n",
    "    cluster_3 = data[data['cluster']==3]\n",
    "\n",
    "    print('****************** Cluster 0 Statistics *************************\\n')\n",
    "    print('Cluster 0 Seasons \\n')\n",
    "    print(cluster_0['season'].value_counts(), '\\n')\n",
    "    print('Cluster 0 Months \\n')\n",
    "    print(cluster_0['month'].value_counts(), '\\n')\n",
    "    basic_numeric_analysis(cluster_0)\n",
    "    print('\\n')\n",
    "    \n",
    "    print('****************** Cluster 1 Statistics *************************\\n')\n",
    "    print('Cluster 1 Seasons \\n')\n",
    "    print(cluster_1['season'].value_counts(), '\\n')\n",
    "    print('Cluster 1 Months \\n')\n",
    "    print(cluster_1['month'].value_counts(), '\\n')\n",
    "    basic_numeric_analysis(cluster_1)\n",
    "    print('\\n')\n",
    "    \n",
    "    print('****************** Cluster 2 Statistics *************************\\n')\n",
    "    print('Cluster 2 Seasons \\n')\n",
    "    print(cluster_2['season'].value_counts(), '\\n')\n",
    "    print('Cluster 2 Months \\n')\n",
    "    print(cluster_2['month'].value_counts(), '\\n')\n",
    "    basic_numeric_analysis(cluster_2)\n",
    "    print('\\n')\n",
    "    \n",
    "    print('****************** Cluster 3 Statistics *************************\\n')\n",
    "    print('Cluster 3 Seasons \\n')\n",
    "    print(cluster_3['season'].value_counts(), '\\n')\n",
    "    print('Cluster 3 Months \\n')\n",
    "    print(cluster_3['month'].value_counts(), '\\n')\n",
    "    basic_numeric_analysis(cluster_3)\n",
    "    print('\\n')"
   ]
  },
  {
   "cell_type": "code",
   "execution_count": 22,
   "metadata": {},
   "outputs": [
    {
     "name": "stdout",
     "output_type": "stream",
     "text": [
      "Extracting Data\n",
      "Extracted Data\n",
      "Updating relative humidity values <= 0\n",
      "Updating wet bulb air temperature values <= 0\n",
      "Updating dew point air temperature values <= 0\n",
      "Updating mean sea level pressure values <= 0\n",
      "Updating vapour pressure values <= 0\n"
     ]
    }
   ],
   "source": [
    "data = select_data()\n",
    "data = change_structure(data)\n",
    "data = split_time(data)\n",
    "data = generate_season(data)\n",
    "data = convert_wdsp(data)\n",
    "#data = binarize_categories(data)\n",
    "\n",
    "data = update_rhum_values(data)\n",
    "data = update_wetb_values(data)\n",
    "data = update_dewpt_values(data)\n",
    "data = update_msl_values(data)\n",
    "data = update_vappr_values(data)\n"
   ]
  },
  {
   "cell_type": "code",
   "execution_count": 23,
   "metadata": {},
   "outputs": [
    {
     "name": "stdout",
     "output_type": "stream",
     "text": [
      "Normalising data\n",
      "CPU times: user 8min 50s, sys: 47 s, total: 9min 37s\n",
      "Wall time: 3min 7s\n"
     ]
    }
   ],
   "source": [
    "categorical_data = get_categorical_data(data)\n",
    "normalised_data = normalise_data(data)\n",
    "%time cluster_data = generate_clusters(normalised_data[0])"
   ]
  },
  {
   "cell_type": "code",
   "execution_count": 24,
   "metadata": {},
   "outputs": [
    {
     "name": "stdout",
     "output_type": "stream",
     "text": [
      "(4039565, 17)\n"
     ]
    }
   ],
   "source": [
    "data = recombine(normalised_data[0], cluster_data[1], categorical_data, normalised_data[1],normalised_data[2])"
   ]
  },
  {
   "cell_type": "code",
   "execution_count": 31,
   "metadata": {},
   "outputs": [
    {
     "name": "stdout",
     "output_type": "stream",
     "text": [
      "3    1224704\n",
      "2    1120163\n",
      "0     887594\n",
      "1     807104\n",
      "Name: cluster, dtype: int64 \n",
      "\n",
      "****************** Cluster 0 Statistics *************************\n",
      "\n",
      "Cluster 0 Seasons \n",
      "\n",
      "Autumn    324214\n",
      "Summer    313045\n",
      "Winter    139218\n",
      "Spring    111117\n",
      "Name: season, dtype: int64 \n",
      "\n",
      "Cluster 0 Months \n",
      "\n",
      "8.00     115958\n",
      "7.00     115188\n",
      "9.00     109219\n",
      "6.00     107645\n",
      "10.00     99037\n",
      "5.00      90212\n",
      "11.00     63530\n",
      "4.00      51754\n",
      "12.00     49108\n",
      "3.00      35919\n",
      "1.00      26580\n",
      "2.00      23444\n",
      "Name: month, dtype: int64 \n",
      "\n",
      "            rain       temp       wetb      dewpt      vappr       rhum  \\\n",
      "count 887,594.00 887,594.00 887,594.00 887,594.00 887,594.00 887,594.00   \n",
      "mean        0.12      12.97      11.62      10.36      12.72      84.84   \n",
      "std         0.51       3.02       2.54       2.72       2.36      11.38   \n",
      "min        -0.00       0.00      -0.00       0.00       6.10      24.00   \n",
      "25%        -0.00      10.70       9.70       8.30      10.90      79.00   \n",
      "50%        -0.00      12.80      11.40      10.20      12.40      87.00   \n",
      "75%        -0.00      15.00      13.40      12.30      14.20      94.00   \n",
      "max        21.10      29.90      23.80      21.60      25.70     100.00   \n",
      "\n",
      "             msl       wdsp      wddir  \n",
      "count 887,594.00 887,594.00 887,594.00  \n",
      "mean    1,015.23      15.94     191.16  \n",
      "std        10.33      10.05      94.75  \n",
      "min       943.00       0.00       0.00  \n",
      "25%     1,008.90       9.26     130.00  \n",
      "50%     1,016.10      14.82     200.00  \n",
      "75%     1,022.50      22.22     260.00  \n",
      "max     1,045.50      77.78     360.00  \n",
      "\n",
      "\n",
      "****************** Cluster 1 Statistics *************************\n",
      "\n",
      "Cluster 1 Seasons \n",
      "\n",
      "Spring    330419\n",
      "Winter    288995\n",
      "Summer    114922\n",
      "Autumn     72768\n",
      "Name: season, dtype: int64 \n",
      "\n",
      "Cluster 1 Months \n",
      "\n",
      "1.00     123796\n",
      "3.00     114686\n",
      "4.00     109475\n",
      "2.00     106258\n",
      "12.00     84972\n",
      "5.00      81985\n",
      "11.00     80227\n",
      "10.00     50680\n",
      "6.00      27025\n",
      "9.00      17617\n",
      "7.00       5912\n",
      "8.00       4471\n",
      "Name: month, dtype: int64 \n",
      "\n",
      "            rain       temp       wetb      dewpt      vappr       rhum  \\\n",
      "count 807,104.00 807,104.00 807,104.00 807,104.00 807,104.00 807,104.00   \n",
      "mean        0.24       8.55       7.00       5.03       8.90      79.25   \n",
      "std         0.70       2.51       2.20       2.66       1.60      11.47   \n",
      "min        -0.00      -1.70      -3.00     -13.00       2.20      20.00   \n",
      "25%        -0.00       6.90       5.50       3.30       7.80      72.00   \n",
      "50%        -0.00       8.60       7.10       5.20       8.90      81.00   \n",
      "75%         0.10      10.20       8.60       6.90      10.00      88.00   \n",
      "max        41.40      24.60      16.40      16.40      18.60     100.00   \n",
      "\n",
      "             msl       wdsp      wddir  \n",
      "count 807,104.00 807,104.00 807,104.00  \n",
      "mean    1,004.59      30.36     224.05  \n",
      "std        13.69      12.30      78.80  \n",
      "min       942.80       0.00       0.00  \n",
      "25%       995.60      22.22     180.00  \n",
      "50%     1,005.50      29.63     240.00  \n",
      "75%     1,014.30      37.04     280.00  \n",
      "max     1,046.00     179.64     360.00  \n",
      "\n",
      "\n",
      "****************** Cluster 2 Statistics *************************\n",
      "\n",
      "Cluster 2 Seasons \n",
      "\n",
      "Spring    490890\n",
      "Winter    466053\n",
      "Summer     87115\n",
      "Autumn     76105\n",
      "Name: season, dtype: int64 \n",
      "\n",
      "Cluster 2 Months \n",
      "\n",
      "1.00     183265\n",
      "3.00     178836\n",
      "2.00     177275\n",
      "12.00    164584\n",
      "4.00     134779\n",
      "11.00    118204\n",
      "5.00      66373\n",
      "10.00     54513\n",
      "9.00      17022\n",
      "6.00      16908\n",
      "8.00       4570\n",
      "7.00       3834\n",
      "Name: month, dtype: int64 \n",
      "\n",
      "              rain         temp         wetb        dewpt        vappr  \\\n",
      "count 1,120,163.00 1,120,163.00 1,120,163.00 1,120,163.00 1,120,163.00   \n",
      "mean          0.04         4.78         3.88         2.54         7.49   \n",
      "std           0.20         2.97         2.68         2.83         1.46   \n",
      "min          -0.00       -16.60       -16.80       -17.50         0.90   \n",
      "25%          -0.00         2.90         2.10         0.70         6.40   \n",
      "50%          -0.00         5.10         4.20         2.80         7.50   \n",
      "75%          -0.00         7.00         6.00         4.70         8.60   \n",
      "max           6.90        19.10        14.30        11.30        12.20   \n",
      "\n",
      "              rhum          msl         wdsp        wddir  \n",
      "count 1,120,163.00 1,120,163.00 1,120,163.00 1,120,163.00  \n",
      "mean         85.93     1,016.77        12.24       186.66  \n",
      "std          10.54        13.11         7.46       102.28  \n",
      "min          15.00       953.20         0.00         0.00  \n",
      "25%          80.00     1,008.00         7.41       100.00  \n",
      "50%          88.00     1,018.10        11.11       200.00  \n",
      "75%          94.00     1,026.70        16.67       270.00  \n",
      "max         100.00     1,047.60        57.41       360.00  \n",
      "\n",
      "\n",
      "****************** Cluster 3 Statistics *************************\n",
      "\n",
      "Cluster 3 Seasons \n",
      "\n",
      "Autumn    533711\n",
      "Summer    494814\n",
      "Winter    120720\n",
      "Spring     75459\n",
      "Name: season, dtype: int64 \n",
      "\n",
      "Cluster 3 Months \n",
      "\n",
      "8.00     213655\n",
      "7.00     210637\n",
      "9.00     184374\n",
      "6.00     172332\n",
      "10.00    135682\n",
      "5.00     111845\n",
      "11.00     65395\n",
      "4.00      42975\n",
      "12.00     41301\n",
      "3.00      20786\n",
      "1.00      14024\n",
      "2.00      11698\n",
      "Name: month, dtype: int64 \n",
      "\n",
      "              rain         temp         wetb        dewpt        vappr  \\\n",
      "count 1,224,704.00 1,224,704.00 1,224,704.00 1,224,704.00 1,224,704.00   \n",
      "mean          0.12        13.44        12.03        10.75        13.01   \n",
      "std           0.47         2.92         2.32         2.42         2.15   \n",
      "min          -0.00         6.70        -0.00         0.00         6.10   \n",
      "25%          -0.00        11.30        10.30         8.90        11.40   \n",
      "50%          -0.00        13.20        11.90        10.60        12.70   \n",
      "75%          -0.00        15.20        13.60        12.40        14.40   \n",
      "max          18.80        30.30        24.90        23.80        29.50   \n",
      "\n",
      "              rhum          msl         wdsp        wddir  \n",
      "count 1,224,704.00 1,224,704.00 1,224,704.00 1,224,704.00  \n",
      "mean         84.51     1,014.28        16.69       201.22  \n",
      "std          11.49         9.86         9.23        83.78  \n",
      "min          24.00       945.80         0.00         0.00  \n",
      "25%          78.00     1,008.00         9.26       150.00  \n",
      "50%          87.00     1,014.90        14.82       210.00  \n",
      "75%          94.00     1,021.20        22.22       260.00  \n",
      "max         100.00     1,045.80        81.49       360.00  \n",
      "\n",
      "\n"
     ]
    }
   ],
   "source": [
    "cluster_statistics(data)"
   ]
  },
  {
   "cell_type": "code",
   "execution_count": null,
   "metadata": {},
   "outputs": [],
   "source": []
  }
 ],
 "metadata": {
  "kernelspec": {
   "display_name": "Python 3",
   "language": "python",
   "name": "python3"
  },
  "language_info": {
   "codemirror_mode": {
    "name": "ipython",
    "version": 3
   },
   "file_extension": ".py",
   "mimetype": "text/x-python",
   "name": "python",
   "nbconvert_exporter": "python",
   "pygments_lexer": "ipython3",
   "version": "3.6.4"
  }
 },
 "nbformat": 4,
 "nbformat_minor": 2
}
