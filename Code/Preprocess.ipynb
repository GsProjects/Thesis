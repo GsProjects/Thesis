{
 "cells": [
  {
   "cell_type": "markdown",
   "metadata": {},
   "source": [
    "### Parameters\n",
    "\n",
    "**wetb**: Wet bulb Air Temperature(°C) is used to measure the extent of cooling as moisture dries on a surface.\n",
    "\n",
    "**dewpt**: Dew point Air Temperature(°C) is used to determine the temperature at which the air can no longer retain moisture. This figure should always be less than or equal to the value of the actual temperature. If air temperature cools to dew point, or the dew point rises to the current temperature then fog or clouds appear. Sourced: http://www.weatherquestions.com/What_is_dewpoint_temperature.htm\n",
    "\n",
    "**vappr**: Vapour Pressure(hpa) \n",
    "\n",
    "**rhum**: Relative Humidity\tdescribes how close the air is to saturation with moisture. Therefore a high relative humidity (100%) indicates theres more moisture in the air.\n",
    "\n",
    "\n",
    "**msl**: Mean Sea Level Pressure is the atmospheric pressure recorded at sea.\n",
    "\n",
    "#### Recurrent Neural Networks.\n",
    "One of the best neural network architectures for predicting \"the future\", in this case future weather forecasts. Work quite well with time series data which is what I have here.\n",
    "\n",
    "Suffer from vanishing/exploding gradients. LSTM and GRU cells used to combat this."
   ]
  },
  {
   "cell_type": "code",
   "execution_count": 1,
   "metadata": {},
   "outputs": [
    {
     "name": "stderr",
     "output_type": "stream",
     "text": [
      "/Users/gearoidlacey/anaconda3/lib/python3.6/site-packages/ipykernel_launcher.py:10: FutureWarning: The pandas.core.datetools module is deprecated and will be removed in a future version. Please use the pandas.tseries module instead.\n",
      "  # Remove the CWD from sys.path while we load stuff.\n"
     ]
    }
   ],
   "source": [
    "import pandas as pd\n",
    "import numpy as np\n",
    "import datetime as dt\n",
    "import mysql.connector\n",
    "import seaborn as sns\n",
    "import matplotlib.pyplot as plt\n",
    "import statsmodels.api as sm\n",
    "from statsmodels.stats.outliers_influence import variance_inflation_factor\n",
    "from patsy import dmatrices\n",
    "from pandas.core import datetools\n",
    "from sklearn.linear_model import LinearRegression\n",
    "from sklearn.ensemble import RandomForestRegressor\n",
    "from sklearn.neural_network import MLPRegressor\n",
    "from sklearn.metrics import r2_score, mean_squared_error\n",
    "from sklearn.preprocessing import StandardScaler\n",
    "from sklearn.cluster import KMeans\n",
    "\n",
    "sns.set_style('darkgrid')\n",
    "pd.options.display.float_format = '{:,.2f}'.format"
   ]
  },
  {
   "cell_type": "code",
   "execution_count": 2,
   "metadata": {},
   "outputs": [],
   "source": [
    "def create_connection():\n",
    "    cnx2 = mysql.connector.connect(host='localhost',\n",
    "                                   user='root', password='MyNewPass',\n",
    "                                   database='Weather_Data')\n",
    "    return cnx2"
   ]
  },
  {
   "cell_type": "code",
   "execution_count": 3,
   "metadata": {},
   "outputs": [],
   "source": [
    "def select_data():\n",
    "    conn = create_connection()\n",
    "    cursor = conn.cursor()\n",
    "    print('Extracting Data')\n",
    "    query = \"Select * from weather;\"\n",
    "    cursor.execute(query, )\n",
    "    result = cursor.fetchall()\n",
    "    print('Extracted Data')\n",
    "        \n",
    "    cursor.close()\n",
    "    conn.close()\n",
    "    \n",
    "    return result\n",
    "    "
   ]
  },
  {
   "cell_type": "code",
   "execution_count": 4,
   "metadata": {},
   "outputs": [],
   "source": [
    "def change_structure(data):\n",
    "    cols = ['date', 'rain', 'temp', 'wetb', 'dewpt','vappr', 'rhum', 'msl', 'wdsp', 'wddir','height','latitude', 'longitude', 'station','county']\n",
    "    data = pd.DataFrame(data, columns=cols)\n",
    "    \n",
    "    data.fillna(0, inplace=True)\n",
    "    return data"
   ]
  },
  {
   "cell_type": "code",
   "execution_count": 5,
   "metadata": {},
   "outputs": [],
   "source": [
    "def split_time(data):\n",
    "    data['date'] = pd.to_datetime(data['date'])\n",
    "    data['year'] = data['date'].dt.year\n",
    "    data['month'] = data['date'].dt.month.astype(np.uint8)\n",
    "    data['day'] = data['date'].dt.day.astype(np.uint8)\n",
    "    data['hour'] = data['date'].dt.hour.astype(np.uint8)\n",
    "    \n",
    "    return data"
   ]
  },
  {
   "cell_type": "code",
   "execution_count": 6,
   "metadata": {},
   "outputs": [],
   "source": [
    "def generate_season(data):\n",
    "    data['season'] = pd.cut(data['month'], bins=[2,5,8,11], labels=['Spring','Summer','Autumn','Winter'])\n",
    "    return data"
   ]
  },
  {
   "cell_type": "code",
   "execution_count": 7,
   "metadata": {},
   "outputs": [],
   "source": [
    "def mean_features(data):\n",
    "    # mean rain, temp, windsp, windirection by year, by season\n",
    "    group = ['year', 'season','month','station']\n",
    "    features = ['rain', 'temp', 'wdsp', 'wddir']\n",
    "    \n",
    "    for grouping in group:\n",
    "        for predictor in features:\n",
    "            print('Grouping by ',grouping, ' getting average ', predictor )\n",
    "            \n",
    "            new_var = predictor + '_by_' + grouping\n",
    "            temp = data.groupby(grouping)[predictor].mean().reset_index() \n",
    "            temp.columns = [grouping, new_var]\n",
    "            data = data.merge(temp, how='left', on=grouping)\n",
    "    \n",
    "    return data"
   ]
  },
  {
   "cell_type": "code",
   "execution_count": 8,
   "metadata": {},
   "outputs": [],
   "source": [
    "def plot_hour_vs_rain(data):    \n",
    "    sns.lmplot(x='hour', y='rain', data = data, fit_reg=True, scatter_kws={\"alpha\":0.25, 's':.2}, line_kws={\"color\":\"r\"})\n",
    "    plt.title('Hour vs. Mean Rainfall(mm) Including Regression Line')"
   ]
  },
  {
   "cell_type": "code",
   "execution_count": 9,
   "metadata": {},
   "outputs": [],
   "source": [
    "def plot_hour_vs_temp(data):    \n",
    "    sns.lmplot(x='hour', y='temp', data = data, fit_reg=True,scatter_kws={\"alpha\":0.25, 's':.2}, line_kws={\"color\":\"r\"})\n",
    "    plt.title('Hour vs. Mean Temperature(°C) Including Regression Line')"
   ]
  },
  {
   "cell_type": "code",
   "execution_count": 10,
   "metadata": {},
   "outputs": [],
   "source": [
    "def plot_hour_vs_wdsp(data):    \n",
    "    sns.lmplot(x='hour', y='wdsp', data = data, fit_reg=True,scatter_kws={\"alpha\":0.25, 's':.2}, line_kws={\"color\":\"r\"})\n",
    "    plt.title('Hour vs. Mean Wind Speed(KT) Including Regression Line')"
   ]
  },
  {
   "cell_type": "code",
   "execution_count": 11,
   "metadata": {},
   "outputs": [],
   "source": [
    "def plot_by_year(data):\n",
    "    data = data.sort_values('year')\n",
    "    \n",
    "    plt.figure(figsize=(15,15))\n",
    "    plt.suptitle('Yearly Averages')\n",
    "    \n",
    "    plt.subplot(221)\n",
    "    plt.plot('year', 'rain_by_year', data=data, color=\"orange\")\n",
    "    plt.xticks(np.arange(data['year'].min(), data['year'].max()) )\n",
    "    plt.xlabel('Year', fontweight='bold', color = 'orange', fontsize='14')\n",
    "    plt.ylabel('Average Rainfall by Year', fontweight='bold', color = 'orange', fontsize='14')\n",
    "    plt.xticks(rotation=75)\n",
    "    \n",
    "    plt.subplot(222)\n",
    "    plt.plot('year', 'temp_by_year', data=data, color=\"green\")\n",
    "    plt.xticks(np.arange(data['year'].min(), data['year'].max()) )\n",
    "    plt.xlabel('Year', fontweight='bold', color = 'orange', fontsize='14')\n",
    "    plt.ylabel('Average Temperature by Year', fontweight='bold', color = 'orange', fontsize='14')\n",
    "    plt.xticks(rotation=75)\n",
    "    \n",
    "    plt.subplot(223)\n",
    "    plt.plot('year', 'wdsp_by_year', data=data, color=\"blue\")\n",
    "    plt.xticks(np.arange(data['year'].min(), data['year'].max()) )\n",
    "    plt.xlabel('Year', fontweight='bold', color = 'orange', fontsize='14')\n",
    "    plt.ylabel('Average Windspeed by Year', fontweight='bold', color = 'orange', fontsize='14')\n",
    "    plt.xticks(rotation=75)\n",
    "    \n",
    "    plt.subplot(224)\n",
    "    plt.plot('year', 'wddir_by_year', data=data, color=\"red\")\n",
    "    plt.xticks(np.arange(data['year'].min(), data['year'].max()) )\n",
    "    plt.xlabel('Year', fontweight='bold', color = 'orange', fontsize='14')\n",
    "    plt.ylabel('Average Wind Direction by Year', fontweight='bold', color = 'orange', fontsize='14')\n",
    "    plt.xticks(rotation=75)\n",
    "    \n",
    "    plt.savefig('Yearly Averages.png')\n",
    "\n",
    "    \n",
    "    plt.show()"
   ]
  },
  {
   "cell_type": "code",
   "execution_count": 12,
   "metadata": {},
   "outputs": [],
   "source": [
    "def plot_by_season(data):\n",
    "    data['season'].astype('category')\n",
    "    data = data.sort_values('season')\n",
    "    \n",
    "    plt.figure(figsize=(15,15))\n",
    "    plt.suptitle('Season Averages')\n",
    "    \n",
    "    plt.subplot(221)\n",
    "    plt.bar('season','rain_by_season', data=data ,color=\"orange\")\n",
    "    plt.xlabel('Season', fontweight='bold', color = 'orange', fontsize='14')\n",
    "    plt.ylabel('Average Rainfall by Season', fontweight='bold', color = 'orange', fontsize='14')\n",
    "    \n",
    "    plt.subplot(222)\n",
    "    plt.bar('season', 'temp_by_season', data=data, color=\"green\")\n",
    "    plt.xlabel('Season', fontweight='bold', color = 'orange', fontsize='14')\n",
    "    plt.ylabel('Average Temperature by Season', fontweight='bold', color = 'orange', fontsize='14')\n",
    "    \n",
    "    plt.subplot(223)\n",
    "    plt.bar('season', 'wdsp_by_season', data=data, color=\"blue\")\n",
    "    plt.xlabel('Season', fontweight='bold', color = 'orange', fontsize='14')\n",
    "    plt.ylabel('Average Windspeed by Season', fontweight='bold', color = 'orange', fontsize='14')\n",
    "    \n",
    "    plt.subplot(224)\n",
    "    plt.bar('season', 'wddir_by_season', data=data, color=\"red\")\n",
    "    plt.xlabel('Season', fontweight='bold', color = 'orange', fontsize='14')\n",
    "    plt.ylabel('Average Wind Direction by Season', fontweight='bold', color = 'orange', fontsize='14')\n",
    "    \n",
    "    plt.savefig('Seasonal Averages.png')\n",
    "    \n",
    "    plt.show()"
   ]
  },
  {
   "cell_type": "code",
   "execution_count": 13,
   "metadata": {},
   "outputs": [],
   "source": [
    "def plot_by_station(data):\n",
    "    data['station'].astype('category')\n",
    "    data = data.sort_values('station')\n",
    "    \n",
    "    plt.figure(figsize=(18,18))\n",
    "    plt.suptitle('Station Averages')\n",
    "    \n",
    "    plt.subplot(221)\n",
    "    plt.plot('station', 'rain_by_station', data=data, color=\"orange\")\n",
    "    plt.xlabel('Station', fontweight='bold', color = 'orange', fontsize='14')\n",
    "    plt.ylabel('Average Rainfall by Station', fontweight='bold', color = 'orange', fontsize='14')\n",
    "    plt.xticks(rotation=75)\n",
    "    \n",
    "    plt.subplot(222)\n",
    "    plt.plot('station', 'temp_by_station', data=data, color=\"green\")\n",
    "    plt.xlabel('Station', fontweight='bold', color = 'orange', fontsize='14')\n",
    "    plt.ylabel('Average Temperature by Station', fontweight='bold', color = 'orange', fontsize='14')\n",
    "    plt.xticks(rotation=75)\n",
    "    \n",
    "    plt.subplot(223)\n",
    "    plt.plot('station', 'wdsp_by_station', data=data, color=\"blue\")\n",
    "    plt.xlabel('Station', fontweight='bold', color = 'orange', fontsize='14')\n",
    "    plt.ylabel('Average Windspeed by Station', fontweight='bold', color = 'orange', fontsize='14')\n",
    "    plt.xticks(rotation=75)\n",
    "    \n",
    "    plt.subplot(224)\n",
    "    plt.plot('station', 'wddir_by_station', data=data, color=\"red\")\n",
    "    plt.xlabel('Station', fontweight='bold', color = 'orange', fontsize='14')\n",
    "    plt.ylabel('Average Wind Direction by Station', fontweight='bold', color = 'orange', fontsize='14')\n",
    "    plt.xticks(rotation=75)\n",
    "    \n",
    "    plt.savefig('Station Averages.png')\n",
    "    \n",
    "    plt.show()"
   ]
  },
  {
   "cell_type": "code",
   "execution_count": 14,
   "metadata": {},
   "outputs": [],
   "source": [
    "def plot_by_month(data):\n",
    "    data['month'].astype('category')\n",
    "    data = data.sort_values('month')\n",
    "    \n",
    "    plt.figure(figsize=(15,15))\n",
    "    plt.suptitle('Station Averages')\n",
    "    \n",
    "    plt.subplot(221)\n",
    "    plt.plot('month', 'rain_by_month', data=data, color=\"orange\")\n",
    "    plt.xlabel('Month', fontweight='bold', color = 'orange', fontsize='14')\n",
    "    plt.ylabel('Average Rainfall by Month', fontweight='bold', color = 'orange', fontsize='14')\n",
    "    \n",
    "    plt.subplot(222)\n",
    "    plt.plot('month', 'temp_by_month', data=data, color=\"green\")\n",
    "    plt.xlabel('Month', fontweight='bold', color = 'orange', fontsize='14')\n",
    "    plt.ylabel('Average Temperature by Month', fontweight='bold', color = 'orange', fontsize='14')\n",
    "    \n",
    "    plt.subplot(223)\n",
    "    plt.plot('month', 'wdsp_by_month', data=data, color=\"blue\")\n",
    "    plt.xlabel('Month', fontweight='bold', color = 'orange', fontsize='14')\n",
    "    plt.ylabel('Average Windspeed by Month', fontweight='bold', color = 'orange', fontsize='14')\n",
    "    \n",
    "    plt.subplot(224)\n",
    "    plt.plot('month', 'wddir_by_month', data=data, color=\"red\")\n",
    "    plt.xlabel('Month',fontweight='bold', color = 'orange', fontsize='14')\n",
    "    plt.ylabel('Average Wind Direction by Month', fontweight='bold', color = 'orange', fontsize='14')\n",
    "    \n",
    "    plt.savefig('Monthly Averages.png')\n",
    "    \n",
    "    plt.show()"
   ]
  },
  {
   "cell_type": "code",
   "execution_count": 15,
   "metadata": {},
   "outputs": [],
   "source": [
    "def create_sets(data):\n",
    "    max_index = len(data)\n",
    "    \n",
    "    start_train = 0\n",
    "    end_train = round(max_index//2)\n",
    "\n",
    "    start_validation = end_train + 1\n",
    "    end_validation = round(start_validation + (max_index - end_train) // 2)\n",
    "\n",
    "    start_test = end_validation + 1\n",
    "    end_test = max_index\n",
    "\n",
    "    train = data[start_train:end_train]\n",
    "    validation = data[start_validation:end_validation]\n",
    "    test = data[start_test:end_test]\n",
    "    \n",
    "    return train, validation, test"
   ]
  },
  {
   "cell_type": "code",
   "execution_count": 16,
   "metadata": {},
   "outputs": [],
   "source": [
    "def create_linear_models(data):\n",
    "    data = data.sort_values('date')\n",
    "    targets = ['wdsp','wddir','rain','temp']\n",
    "    \n",
    "    del(data['station'])\n",
    "    del(data['county'])\n",
    "    del(data['date'])\n",
    "    \n",
    "    for target in targets:\n",
    "        temp = data\n",
    "        \n",
    "        #Scale data - MinMax scaler scales between 0 and 1. Means now have lowers standard deviations so effects of outliers are minimised\n",
    "        #StandardScalers scales data so it has mean 0 and standard deviation of 1\n",
    "        \n",
    "        scaler = StandardScaler()\n",
    "        temp = scaler.fit_transform(temp)\n",
    "\n",
    "        # Split into train ,validation and test sets\n",
    "        train, validation, test = create_sets(temp)\n",
    "        temp = pd.DataFrame(temp)\n",
    "       \n",
    "        train_target, validation_target, test_target = create_sets(temp[32])\n",
    "\n",
    "        del(temp[32])\n",
    "        \n",
    "        print('Performing linear regression on ',target)\n",
    "\n",
    "        reg = LinearRegression().fit(train,train_target)\n",
    "        target_predictions = reg.predict(validation)\n",
    "        \n",
    "        \n",
    "        \n",
    "        #print(\"Mean squared error: \", mean_squared_error(validation_target, target_predictions))\n",
    "        print('Variance score: ', r2_score(validation_target, target_predictions))\n",
    "        \n",
    "        print('Performing Random forest regression on ',target)\n",
    "\n",
    "        reg = RandomForestRegressor().fit(train,train_target)\n",
    "        target_predictions = reg.predict(validation)\n",
    "        \n",
    "        \n",
    "        \n",
    "        print('Variance score: ', r2_score(validation_target, target_predictions))\n",
    "        \n",
    "        #print('Performing MLP regression on ',target)\n",
    "\n",
    "        #reg = MLPRegressor().fit(train,train_target)\n",
    "        #target_predictions = reg.predict(validation)\n",
    "        \n",
    "        \n",
    "        \n",
    "        #print('Variance score: ', r2_score(validation_target, target_predictions))\n",
    "    \n",
    "    "
   ]
  },
  {
   "cell_type": "code",
   "execution_count": 17,
   "metadata": {},
   "outputs": [],
   "source": [
    "def get_vif(data):\n",
    "    #https://etav.github.io/python/vif_factor_python.html\n",
    "    \n",
    "    data = data._get_numeric_data() \n",
    "    print(data.columns)\n",
    "    targets = ['wdsp','temp','wddir','rain']\n",
    "    for target in targets:\n",
    "        features = '+'.join(data.loc[:, data.columns != target].columns)\n",
    "        print('Performing Regression on: ', target)\n",
    "        y, X = dmatrices(target + ' ~ ' + features, data, return_type='dataframe')\n",
    "        print('Finished Regression on: ', target)\n",
    "        \n",
    "        #X represents the coefficients, y represents the output \n",
    "        \n",
    "        \n",
    "        #Cant calculate variance inflation factor as R2 is 1. Vif formula is 1/1-R2 which means its trying to divide by 0\n",
    "        vif = pd.DataFrame()\n",
    "        vif[\"VIF Factor\"] = [variance_inflation_factor(X.values, i) for i in range(X.shape[1])]\n",
    "        vif[\"features\"] = X.columns\n",
    "        print(vif)\n",
    "    "
   ]
  },
  {
   "cell_type": "code",
   "execution_count": null,
   "metadata": {},
   "outputs": [],
   "source": []
  },
  {
   "cell_type": "code",
   "execution_count": 18,
   "metadata": {},
   "outputs": [
    {
     "name": "stdout",
     "output_type": "stream",
     "text": [
      "Extracting Data\n",
      "Extracted Data\n"
     ]
    }
   ],
   "source": [
    "data = select_data()\n",
    "data = change_structure(data)"
   ]
  },
  {
   "cell_type": "code",
   "execution_count": 19,
   "metadata": {},
   "outputs": [],
   "source": [
    "data = split_time(data)"
   ]
  },
  {
   "cell_type": "code",
   "execution_count": 20,
   "metadata": {},
   "outputs": [
    {
     "ename": "ValueError",
     "evalue": "Bin labels must be one fewer than the number of bin edges",
     "output_type": "error",
     "traceback": [
      "\u001b[0;31m---------------------------------------------------------------------------\u001b[0m",
      "\u001b[0;31mValueError\u001b[0m                                Traceback (most recent call last)",
      "\u001b[0;32m<ipython-input-20-142079080654>\u001b[0m in \u001b[0;36m<module>\u001b[0;34m()\u001b[0m\n\u001b[0;32m----> 1\u001b[0;31m \u001b[0mdata\u001b[0m \u001b[0;34m=\u001b[0m \u001b[0mgenerate_season\u001b[0m\u001b[0;34m(\u001b[0m\u001b[0mdata\u001b[0m\u001b[0;34m)\u001b[0m\u001b[0;34m\u001b[0m\u001b[0m\n\u001b[0m",
      "\u001b[0;32m<ipython-input-6-94de2f02e3ce>\u001b[0m in \u001b[0;36mgenerate_season\u001b[0;34m(data)\u001b[0m\n\u001b[1;32m      1\u001b[0m \u001b[0;32mdef\u001b[0m \u001b[0mgenerate_season\u001b[0m\u001b[0;34m(\u001b[0m\u001b[0mdata\u001b[0m\u001b[0;34m)\u001b[0m\u001b[0;34m:\u001b[0m\u001b[0;34m\u001b[0m\u001b[0m\n\u001b[0;32m----> 2\u001b[0;31m     \u001b[0mdata\u001b[0m\u001b[0;34m[\u001b[0m\u001b[0;34m'season'\u001b[0m\u001b[0;34m]\u001b[0m \u001b[0;34m=\u001b[0m \u001b[0mpd\u001b[0m\u001b[0;34m.\u001b[0m\u001b[0mcut\u001b[0m\u001b[0;34m(\u001b[0m\u001b[0mdata\u001b[0m\u001b[0;34m[\u001b[0m\u001b[0;34m'month'\u001b[0m\u001b[0;34m]\u001b[0m\u001b[0;34m,\u001b[0m \u001b[0mbins\u001b[0m\u001b[0;34m=\u001b[0m\u001b[0;34m[\u001b[0m\u001b[0;36m2\u001b[0m\u001b[0;34m,\u001b[0m\u001b[0;36m5\u001b[0m\u001b[0;34m,\u001b[0m\u001b[0;36m8\u001b[0m\u001b[0;34m,\u001b[0m\u001b[0;36m11\u001b[0m\u001b[0;34m]\u001b[0m\u001b[0;34m,\u001b[0m \u001b[0mlabels\u001b[0m\u001b[0;34m=\u001b[0m\u001b[0;34m[\u001b[0m\u001b[0;34m'Spring'\u001b[0m\u001b[0;34m,\u001b[0m\u001b[0;34m'Summer'\u001b[0m\u001b[0;34m,\u001b[0m\u001b[0;34m'Autumn'\u001b[0m\u001b[0;34m,\u001b[0m\u001b[0;34m'Winter'\u001b[0m\u001b[0;34m]\u001b[0m\u001b[0;34m)\u001b[0m\u001b[0;34m\u001b[0m\u001b[0m\n\u001b[0m\u001b[1;32m      3\u001b[0m     \u001b[0;32mreturn\u001b[0m \u001b[0mdata\u001b[0m\u001b[0;34m\u001b[0m\u001b[0m\n",
      "\u001b[0;32m~/anaconda3/lib/python3.6/site-packages/pandas/core/reshape/tile.py\u001b[0m in \u001b[0;36mcut\u001b[0;34m(x, bins, right, labels, retbins, precision, include_lowest, duplicates)\u001b[0m\n\u001b[1;32m    232\u001b[0m                               \u001b[0minclude_lowest\u001b[0m\u001b[0;34m=\u001b[0m\u001b[0minclude_lowest\u001b[0m\u001b[0;34m,\u001b[0m\u001b[0;34m\u001b[0m\u001b[0m\n\u001b[1;32m    233\u001b[0m                               \u001b[0mdtype\u001b[0m\u001b[0;34m=\u001b[0m\u001b[0mdtype\u001b[0m\u001b[0;34m,\u001b[0m\u001b[0;34m\u001b[0m\u001b[0m\n\u001b[0;32m--> 234\u001b[0;31m                               duplicates=duplicates)\n\u001b[0m\u001b[1;32m    235\u001b[0m \u001b[0;34m\u001b[0m\u001b[0m\n\u001b[1;32m    236\u001b[0m     return _postprocess_for_cut(fac, bins, retbins, x_is_series,\n",
      "\u001b[0;32m~/anaconda3/lib/python3.6/site-packages/pandas/core/reshape/tile.py\u001b[0m in \u001b[0;36m_bins_to_cuts\u001b[0;34m(x, bins, right, labels, precision, include_lowest, dtype, duplicates)\u001b[0m\n\u001b[1;32m    351\u001b[0m         \u001b[0;32melse\u001b[0m\u001b[0;34m:\u001b[0m\u001b[0;34m\u001b[0m\u001b[0m\n\u001b[1;32m    352\u001b[0m             \u001b[0;32mif\u001b[0m \u001b[0mlen\u001b[0m\u001b[0;34m(\u001b[0m\u001b[0mlabels\u001b[0m\u001b[0;34m)\u001b[0m \u001b[0;34m!=\u001b[0m \u001b[0mlen\u001b[0m\u001b[0;34m(\u001b[0m\u001b[0mbins\u001b[0m\u001b[0;34m)\u001b[0m \u001b[0;34m-\u001b[0m \u001b[0;36m1\u001b[0m\u001b[0;34m:\u001b[0m\u001b[0;34m\u001b[0m\u001b[0m\n\u001b[0;32m--> 353\u001b[0;31m                 raise ValueError('Bin labels must be one fewer than '\n\u001b[0m\u001b[1;32m    354\u001b[0m                                  'the number of bin edges')\n\u001b[1;32m    355\u001b[0m         \u001b[0;32mif\u001b[0m \u001b[0;32mnot\u001b[0m \u001b[0mis_categorical_dtype\u001b[0m\u001b[0;34m(\u001b[0m\u001b[0mlabels\u001b[0m\u001b[0;34m)\u001b[0m\u001b[0;34m:\u001b[0m\u001b[0;34m\u001b[0m\u001b[0m\n",
      "\u001b[0;31mValueError\u001b[0m: Bin labels must be one fewer than the number of bin edges"
     ]
    }
   ],
   "source": [
    "data = generate_season(data)"
   ]
  },
  {
   "cell_type": "code",
   "execution_count": null,
   "metadata": {},
   "outputs": [],
   "source": [
    "data = mean_features(data)"
   ]
  },
  {
   "cell_type": "code",
   "execution_count": null,
   "metadata": {},
   "outputs": [],
   "source": [
    "%time plot_hour_vs_rain(data)"
   ]
  },
  {
   "cell_type": "code",
   "execution_count": null,
   "metadata": {},
   "outputs": [],
   "source": [
    "%time plot_hour_vs_temp(data)"
   ]
  },
  {
   "cell_type": "code",
   "execution_count": null,
   "metadata": {},
   "outputs": [],
   "source": [
    "%time plot_hour_vs_wdsp(data)"
   ]
  },
  {
   "cell_type": "code",
   "execution_count": null,
   "metadata": {},
   "outputs": [],
   "source": [
    "%time plot_by_year(data)"
   ]
  },
  {
   "cell_type": "code",
   "execution_count": null,
   "metadata": {},
   "outputs": [],
   "source": [
    "#%time plot_by_season(data)"
   ]
  },
  {
   "cell_type": "code",
   "execution_count": null,
   "metadata": {},
   "outputs": [],
   "source": [
    "%time plot_by_month(data)"
   ]
  },
  {
   "cell_type": "code",
   "execution_count": null,
   "metadata": {},
   "outputs": [],
   "source": [
    "%time plot_by_station(data)"
   ]
  },
  {
   "cell_type": "code",
   "execution_count": null,
   "metadata": {},
   "outputs": [],
   "source": [
    "#create_linear_models(data)"
   ]
  },
  {
   "cell_type": "code",
   "execution_count": null,
   "metadata": {},
   "outputs": [],
   "source": [
    "#get_vif(data)"
   ]
  },
  {
   "cell_type": "code",
   "execution_count": null,
   "metadata": {},
   "outputs": [],
   "source": [
    "plt.figure(figsize=(30,30))\n",
    "plt.title('Feature Correlation', fontsize=20)\n",
    "cmap = sns.diverging_palette(220, 10, as_cmap=True)\n",
    "sns.heatmap(data.corr(),square=True, cmap=cmap, linewidths=.5, cbar_kws={\"shrink\": .5})\n",
    "plt.savefig('Correlation.png')\n",
    "plt.show()"
   ]
  },
  {
   "cell_type": "code",
   "execution_count": null,
   "metadata": {},
   "outputs": [],
   "source": []
  },
  {
   "cell_type": "code",
   "execution_count": null,
   "metadata": {},
   "outputs": [],
   "source": []
  },
  {
   "cell_type": "code",
   "execution_count": null,
   "metadata": {},
   "outputs": [],
   "source": []
  }
 ],
 "metadata": {
  "kernelspec": {
   "display_name": "Python 3",
   "language": "python",
   "name": "python3"
  },
  "language_info": {
   "codemirror_mode": {
    "name": "ipython",
    "version": 3
   },
   "file_extension": ".py",
   "mimetype": "text/x-python",
   "name": "python",
   "nbconvert_exporter": "python",
   "pygments_lexer": "ipython3",
   "version": "3.6.5"
  }
 },
 "nbformat": 4,
 "nbformat_minor": 2
}
